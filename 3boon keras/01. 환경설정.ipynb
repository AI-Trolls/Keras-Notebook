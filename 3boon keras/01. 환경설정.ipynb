{
 "cells": [
  {
   "cell_type": "markdown",
   "metadata": {},
   "source": [
    "## 환경 설정\n",
    "- 아나콘다는 알아서 설치\n",
    "- 아나콘다 이용하여 케라스 설치\n",
    "    - conda install keras-gpu\n",
    "    - conda install keras\n",
    "- 케라스 엔진 변경법\n",
    "    - ~/.keras/keras.json\n",
    "        - **image_data_format**=\"cannels_last\" (텐서플로우가 백앤드 엔진인 경우)\n",
    "        - 이미지 정보에서 채널에 해당하는 차원이 제일 마지막에 나옴\n",
    "        - RGB 이미지인 경우 색깔을 나타내는 RGB 채널이 마지막 차원으로 설정되어있음\n",
    "        - theano는 channels_first\n",
    "        - 원래 image_dim_ordering이란 key가 image_data_format이었다고함\n",
    "- 우분투에서 gpu 케라스를 위한 설정\n",
    "    - **CUDA 드라이버** 설치\n",
    "        - wget으로 드라이버 설치 스크립트 다운 후\n",
    "        - ctrl + alt + f1\n",
    "        - sudo service lightdm stop (백그라운드로 수행중인 GUI 환경 정지)\n",
    "        - sudo sh 드라이버 설치 스크립트\n",
    "    - "
   ]
  },
  {
   "cell_type": "markdown",
   "metadata": {},
   "source": [
    "#### 예제\n",
    "- 간단한 NN 구현\n",
    "- **fully connected , dense layer**\n",
    "    - 입력 벡터에 가중치 벡터를 내적하고 Bias 빼주는 동작\n",
    "- **models** 서브패키지는 뉴럴넷의 각 계층을 연결해 하나의 모델을 만든 후 **컴파일 / 학습 / 예측**을 해줌\n",
    "- **layers** 서브패키지는 뉴럴넷의 각 계층을 만드는 클래스 제공"
   ]
  },
  {
   "cell_type": "code",
   "execution_count": 1,
   "metadata": {},
   "outputs": [
    {
     "name": "stderr",
     "output_type": "stream",
     "text": [
      "Using TensorFlow backend.\n"
     ]
    }
   ],
   "source": [
    "import keras\n",
    "import numpy"
   ]
  },
  {
   "cell_type": "code",
   "execution_count": 2,
   "metadata": {},
   "outputs": [],
   "source": [
    "x = numpy.array([0,1,2,3,4])\n",
    "y = x * 2 + 1"
   ]
  },
  {
   "cell_type": "markdown",
   "metadata": {},
   "source": [
    "#### 모델 인스턴스 생성"
   ]
  },
  {
   "cell_type": "code",
   "execution_count": 4,
   "metadata": {},
   "outputs": [],
   "source": [
    "model = keras.models.Sequential()"
   ]
  },
  {
   "cell_type": "markdown",
   "metadata": {},
   "source": [
    "#### 뉴럴넷 레이어 추가\n",
    "- 내부적으로 바이어스 가지고 있으므로 미지수 2개 포함"
   ]
  },
  {
   "cell_type": "code",
   "execution_count": 5,
   "metadata": {},
   "outputs": [],
   "source": [
    "model.add(keras.layers.Dense(1, input_shape=(1,)))"
   ]
  },
  {
   "cell_type": "markdown",
   "metadata": {},
   "source": [
    "#### 학습 방법 지정 및 컴파일(모델 구조 생성)"
   ]
  },
  {
   "cell_type": "code",
   "execution_count": 7,
   "metadata": {},
   "outputs": [],
   "source": [
    "model.compile('SGD', 'mse')"
   ]
  },
  {
   "cell_type": "markdown",
   "metadata": {},
   "source": [
    "#### 모델 학습\n",
    "- epoch ; 학습시 학습 데이터 전체가 사용된 한 회"
   ]
  },
  {
   "cell_type": "code",
   "execution_count": 8,
   "metadata": {},
   "outputs": [
    {
     "data": {
      "text/plain": [
       "<keras.callbacks.History at 0x7f0ede02ab38>"
      ]
     },
     "execution_count": 8,
     "metadata": {},
     "output_type": "execute_result"
    }
   ],
   "source": [
    "model.fit(x[:2], y[:2], epochs=1000, verbose=0)"
   ]
  },
  {
   "cell_type": "code",
   "execution_count": 9,
   "metadata": {},
   "outputs": [
    {
     "name": "stdout",
     "output_type": "stream",
     "text": [
      "Targets: [5 7 9]\n",
      "Predictions: [4.9621735 6.934802  8.907431 ]\n"
     ]
    }
   ],
   "source": [
    "print('Targets:', y[2:])\n",
    "print('Predictions:', model.predict(x[2:]).flatten())"
   ]
  }
 ],
 "metadata": {
  "kernelspec": {
   "display_name": "Python 3",
   "language": "python",
   "name": "python3"
  },
  "language_info": {
   "codemirror_mode": {
    "name": "ipython",
    "version": 3
   },
   "file_extension": ".py",
   "mimetype": "text/x-python",
   "name": "python",
   "nbconvert_exporter": "python",
   "pygments_lexer": "ipython3",
   "version": "3.4.5"
  }
 },
 "nbformat": 4,
 "nbformat_minor": 2
}
