{
 "cells": [
  {
   "cell_type": "markdown",
   "metadata": {},
   "source": [
    "## CNN\n",
    "- 앞의 Dense 예제에서는 이미지의 공간 구조나 관계 정보를 사용하지 않았음 (flatten화 해서 다 무시)\n",
    "- 사람이 무언가를 보고 인식할 때, 여러 단계를 거쳐서 각 단꼐마다 점점 더 구조화된 정보 인식"
   ]
  },
  {
   "cell_type": "markdown",
   "metadata": {},
   "source": [
    "## LeNet 구현\n",
    "- keras.layers.convolutional.**Conv2D**(filters, kernel_size, padding='valid')\n",
    "    - padding='same' ; 패딩을 사용함\n",
    "    - padding='valid' ; 입력과 필터가 완전히 겹치는 위치에서만 컨볼루션 계산 (출력 작아짐)\n",
    "- keras.layers.pooling.**MaxPooling2D**(pool_size(2, 2), strides=(2, 2))\n",
    "- *Convolutional Networks for Images, Speech, and Time-Series, brain theory neural networks, vol. 3361, 1995*"
   ]
  },
  {
   "cell_type": "code",
   "execution_count": 1,
   "metadata": {},
   "outputs": [
    {
     "name": "stderr",
     "output_type": "stream",
     "text": [
      "Using TensorFlow backend.\n"
     ]
    }
   ],
   "source": [
    "from keras import backend as K\n",
    "from keras.models import Sequential\n",
    "from keras.layers.convolutional import Conv2D, MaxPooling2D\n",
    "from keras.layers.core import Activation, Flatten, Dense\n",
    "from keras.datasets import mnist\n",
    "from keras.utils import np_utils\n",
    "from keras.optimizers import SGD, RMSprop, Adam\n",
    "import numpy as np\n",
    "import matplotlib.pyplot as plt"
   ]
  },
  {
   "cell_type": "code",
   "execution_count": 2,
   "metadata": {},
   "outputs": [],
   "source": [
    "class LeNet:\n",
    "    @staticmethod\n",
    "    def build(input_shape, classes):\n",
    "        model = Sequential()\n",
    "        # CONV => RELU => POOL\n",
    "        model.add(Conv2D(20, kernel_size=5, padding=\"same\", input_shape=input_shape))\n",
    "        model.add(Activation(\"relu\"))\n",
    "        model.add(MaxPooling2D(pool_size=(2, 2), strides=(2, 2)))\n",
    "        # CONV => RELU => POOL\n",
    "        model.add(Conv2D(50, kernel_size=5, padding=\"same\"))\n",
    "        model.add(Activation(\"relu\"))\n",
    "        model.add(MaxPooling2D(pool_size=(2,2), strides=(2, 2)))\n",
    "        # Flatten => Dense => RELU\n",
    "        model.add(Flatten())\n",
    "        model.add(Dense(500))\n",
    "        model.add(Activation(\"relu\"))\n",
    "        # softmax classifier\n",
    "        model.add(Dense(classes))\n",
    "        model.add(Activation(\"softmax\"))\n",
    "        \n",
    "        model.summary()\n",
    "        return model"
   ]
  },
  {
   "cell_type": "code",
   "execution_count": 3,
   "metadata": {},
   "outputs": [],
   "source": [
    "NB_EPOCH = 20\n",
    "BATCH_SIZE = 128\n",
    "VERBOSE = 1\n",
    "OPTIMIZER = Adam()\n",
    "VALIDATION_SPLIT = 0.2\n",
    "IMG_ROWS, IMG_COLS = 28, 28\n",
    "NB_CLASSES = 10\n",
    "INPUT_SHAPE = (1, IMG_ROWS, IMG_COLS)\n",
    "K.set_image_dim_ordering(\"th\")"
   ]
  },
  {
   "cell_type": "markdown",
   "metadata": {},
   "source": [
    "#### Read data"
   ]
  },
  {
   "cell_type": "code",
   "execution_count": 4,
   "metadata": {},
   "outputs": [],
   "source": [
    "(X_train, y_train), (X_test, y_test) = mnist.load_data()\n",
    "X_train = X_train.astype('float32')\n",
    "X_test = X_test.astype('float32')\n",
    "X_train /= 255\n",
    "X_test /= 255"
   ]
  },
  {
   "cell_type": "code",
   "execution_count": 5,
   "metadata": {},
   "outputs": [
    {
     "data": {
      "text/plain": [
       "((60000, 28, 28), (10000, 28, 28))"
      ]
     },
     "execution_count": 5,
     "metadata": {},
     "output_type": "execute_result"
    }
   ],
   "source": [
    "X_train.shape, X_test.shape"
   ]
  },
  {
   "cell_type": "code",
   "execution_count": 6,
   "metadata": {},
   "outputs": [],
   "source": [
    "# https://stackoverflow.com/questions/29241056/how-does-numpy-newaxis-work-and-when-to-use-it\n",
    "X_train = X_train[:, np.newaxis, :, :]\n",
    "X_test = X_test[:, np.newaxis, :, :]"
   ]
  },
  {
   "cell_type": "code",
   "execution_count": 7,
   "metadata": {},
   "outputs": [
    {
     "data": {
      "text/plain": [
       "((60000, 1, 28, 28), (10000, 1, 28, 28))"
      ]
     },
     "execution_count": 7,
     "metadata": {},
     "output_type": "execute_result"
    }
   ],
   "source": [
    "X_train.shape, X_test.shape"
   ]
  },
  {
   "cell_type": "markdown",
   "metadata": {},
   "source": [
    "#### One hot encoding"
   ]
  },
  {
   "cell_type": "code",
   "execution_count": 8,
   "metadata": {},
   "outputs": [],
   "source": [
    "y_train = np_utils.to_categorical(y_train, NB_CLASSES)\n",
    "y_test = np_utils.to_categorical(y_test, NB_CLASSES)"
   ]
  },
  {
   "cell_type": "markdown",
   "metadata": {},
   "source": [
    "#### Init model"
   ]
  },
  {
   "cell_type": "code",
   "execution_count": 9,
   "metadata": {},
   "outputs": [
    {
     "name": "stdout",
     "output_type": "stream",
     "text": [
      "_________________________________________________________________\n",
      "Layer (type)                 Output Shape              Param #   \n",
      "=================================================================\n",
      "conv2d_1 (Conv2D)            (None, 20, 28, 28)        520       \n",
      "_________________________________________________________________\n",
      "activation_1 (Activation)    (None, 20, 28, 28)        0         \n",
      "_________________________________________________________________\n",
      "max_pooling2d_1 (MaxPooling2 (None, 20, 14, 14)        0         \n",
      "_________________________________________________________________\n",
      "conv2d_2 (Conv2D)            (None, 50, 14, 14)        25050     \n",
      "_________________________________________________________________\n",
      "activation_2 (Activation)    (None, 50, 14, 14)        0         \n",
      "_________________________________________________________________\n",
      "max_pooling2d_2 (MaxPooling2 (None, 50, 7, 7)          0         \n",
      "_________________________________________________________________\n",
      "flatten_1 (Flatten)          (None, 2450)              0         \n",
      "_________________________________________________________________\n",
      "dense_1 (Dense)              (None, 500)               1225500   \n",
      "_________________________________________________________________\n",
      "activation_3 (Activation)    (None, 500)               0         \n",
      "_________________________________________________________________\n",
      "dense_2 (Dense)              (None, 10)                5010      \n",
      "_________________________________________________________________\n",
      "activation_4 (Activation)    (None, 10)                0         \n",
      "=================================================================\n",
      "Total params: 1,256,080\n",
      "Trainable params: 1,256,080\n",
      "Non-trainable params: 0\n",
      "_________________________________________________________________\n",
      "Train on 48000 samples, validate on 12000 samples\n",
      "Epoch 1/20\n",
      "48000/48000 [==============================] - 74s 2ms/step - loss: 0.1851 - acc: 0.9427 - val_loss: 0.0544 - val_acc: 0.9831\n",
      "Epoch 2/20\n",
      "48000/48000 [==============================] - 75s 2ms/step - loss: 0.0518 - acc: 0.9840 - val_loss: 0.0468 - val_acc: 0.9854\n",
      "Epoch 3/20\n",
      "48000/48000 [==============================] - 91s 2ms/step - loss: 0.0345 - acc: 0.9894 - val_loss: 0.0404 - val_acc: 0.9876\n",
      "Epoch 4/20\n",
      "48000/48000 [==============================] - 97s 2ms/step - loss: 0.0250 - acc: 0.9923 - val_loss: 0.0381 - val_acc: 0.9888\n",
      "Epoch 5/20\n",
      "48000/48000 [==============================] - 88s 2ms/step - loss: 0.0183 - acc: 0.9943 - val_loss: 0.0389 - val_acc: 0.9887\n",
      "Epoch 6/20\n",
      "48000/48000 [==============================] - 75s 2ms/step - loss: 0.0136 - acc: 0.9955 - val_loss: 0.0479 - val_acc: 0.9879\n",
      "Epoch 7/20\n",
      "48000/48000 [==============================] - 88s 2ms/step - loss: 0.0114 - acc: 0.9959 - val_loss: 0.0398 - val_acc: 0.9912\n",
      "Epoch 8/20\n",
      "48000/48000 [==============================] - 89s 2ms/step - loss: 0.0115 - acc: 0.9961 - val_loss: 0.0449 - val_acc: 0.9879\n",
      "Epoch 9/20\n",
      "48000/48000 [==============================] - 90s 2ms/step - loss: 0.0081 - acc: 0.9974 - val_loss: 0.0343 - val_acc: 0.9914\n",
      "Epoch 10/20\n",
      "48000/48000 [==============================] - 90s 2ms/step - loss: 0.0070 - acc: 0.9976 - val_loss: 0.0351 - val_acc: 0.9910\n",
      "Epoch 11/20\n",
      "48000/48000 [==============================] - 77s 2ms/step - loss: 0.0071 - acc: 0.9976 - val_loss: 0.0349 - val_acc: 0.9907\n",
      "Epoch 12/20\n",
      "48000/48000 [==============================] - 86s 2ms/step - loss: 0.0063 - acc: 0.9977 - val_loss: 0.0618 - val_acc: 0.9867\n",
      "Epoch 13/20\n",
      "48000/48000 [==============================] - 97s 2ms/step - loss: 0.0050 - acc: 0.9984 - val_loss: 0.0426 - val_acc: 0.9916\n",
      "Epoch 14/20\n",
      "48000/48000 [==============================] - 97s 2ms/step - loss: 0.0053 - acc: 0.9979 - val_loss: 0.0531 - val_acc: 0.9886\n",
      "Epoch 15/20\n",
      "48000/48000 [==============================] - 97s 2ms/step - loss: 0.0063 - acc: 0.9979 - val_loss: 0.0456 - val_acc: 0.9907\n",
      "Epoch 16/20\n",
      "48000/48000 [==============================] - 81s 2ms/step - loss: 0.0032 - acc: 0.9990 - val_loss: 0.0419 - val_acc: 0.9907\n",
      "Epoch 17/20\n",
      "48000/48000 [==============================] - 75s 2ms/step - loss: 0.0025 - acc: 0.9993 - val_loss: 0.0470 - val_acc: 0.9904\n",
      "Epoch 18/20\n",
      "48000/48000 [==============================] - 75s 2ms/step - loss: 0.0060 - acc: 0.9982 - val_loss: 0.0533 - val_acc: 0.9907\n",
      "Epoch 19/20\n",
      "48000/48000 [==============================] - 75s 2ms/step - loss: 0.0045 - acc: 0.9985 - val_loss: 0.0410 - val_acc: 0.9918\n",
      "Epoch 20/20\n",
      "48000/48000 [==============================] - 83s 2ms/step - loss: 0.0021 - acc: 0.9993 - val_loss: 0.0473 - val_acc: 0.9913\n",
      "10000/10000 [==============================] - 11s 1ms/step\n"
     ]
    }
   ],
   "source": [
    "model = LeNet.build(input_shape=INPUT_SHAPE, classes=NB_CLASSES)\n",
    "model.compile(loss=\"categorical_crossentropy\", optimizer=OPTIMIZER, metrics=[\"accuracy\"])\n",
    "history = model.fit(X_train, y_train, batch_size=BATCH_SIZE, epochs=NB_EPOCH, verbose=VERBOSE, validation_split=VALIDATION_SPLIT)\n",
    "score = model.evaluate(X_test, y_test, verbose=VERBOSE)"
   ]
  },
  {
   "cell_type": "code",
   "execution_count": null,
   "metadata": {},
   "outputs": [],
   "source": []
  }
 ],
 "metadata": {
  "kernelspec": {
   "display_name": "Python 3",
   "language": "python",
   "name": "python3"
  },
  "language_info": {
   "codemirror_mode": {
    "name": "ipython",
    "version": 3
   },
   "file_extension": ".py",
   "mimetype": "text/x-python",
   "name": "python",
   "nbconvert_exporter": "python",
   "pygments_lexer": "ipython3",
   "version": "3.4.5"
  }
 },
 "nbformat": 4,
 "nbformat_minor": 2
}
