{
 "cells": [
  {
   "cell_type": "markdown",
   "metadata": {},
   "source": [
    "## CNN\n",
    "- 앞의 Dense 예제에서는 이미지의 공간 구조나 관계 정보를 사용하지 않았음 (flatten화 해서 다 무시)\n",
    "- 사람이 무언가를 보고 인식할 때, 여러 단계를 거쳐서 각 단꼐마다 점점 더 구조화된 정보 인식\n",
    "- **책의 설명은 이해할 수 없는 수준**이므로 다 무시하고 이론은 각자 공부하시오"
   ]
  },
  {
   "cell_type": "markdown",
   "metadata": {},
   "source": [
    "## LeNet 구현\n",
    "- keras.layers.convolutional.**Conv2D**(filters, kernel_size, padding='valid')\n",
    "    - padding='same' ; 패딩을 사용함\n",
    "    - padding='valid' ; 입력과 필터가 완전히 겹치는 위치에서만 컨볼루션 계산 (출력 작아짐)\n",
    "- keras.layers.pooling.**MaxPooling2D**(pool_size(2, 2), strides=(2, 2))\n",
    "- *Convolutional Networks for Images, Speech, and Time-Series, brain theory neural networks, vol. 3361, 1995*"
   ]
  },
  {
   "cell_type": "code",
   "execution_count": 1,
   "metadata": {},
   "outputs": [],
   "source": [
    "from keras import backend as K\n",
    "from keras.models import Sequential\n",
    "from keras.layers.convolutional import Conv2D, MaxPooling2D\n",
    "from keras.layers.core import Activation, Flatten, Dense\n",
    "from keras.datasets import mnist\n",
    "from keras.utils import np_utils\n",
    "from keras.optimizers import SGD, RMSprop, Adam\n",
    "import numpy as np\n",
    "import matplotlib.pyplot as plt"
   ]
  },
  {
   "cell_type": "code",
   "execution_count": null,
   "metadata": {},
   "outputs": [],
   "source": [
    "class LeNet:\n",
    "    @staticmethod\n",
    "    def build(input_shape, classes):\n",
    "        model = Sequential()\n",
    "        model.add(Conv2D(20, kernel_size=5, padding=\"same\", input_shape=input_shape))\n",
    "        model.add(Activation(\"relu\"))\n",
    "        model.add(MaxPooling2D(pool_size(2,2), strides))"
   ]
  }
 ],
 "metadata": {
  "kernelspec": {
   "display_name": "Python 3",
   "language": "python",
   "name": "python3"
  },
  "language_info": {
   "codemirror_mode": {
    "name": "ipython",
    "version": 3
   },
   "file_extension": ".py",
   "mimetype": "text/x-python",
   "name": "python",
   "nbconvert_exporter": "python",
   "pygments_lexer": "ipython3",
   "version": "3.4.5"
  }
 },
 "nbformat": 4,
 "nbformat_minor": 2
}
