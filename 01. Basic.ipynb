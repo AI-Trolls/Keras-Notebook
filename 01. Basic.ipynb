{
 "cells": [
  {
   "cell_type": "markdown",
   "metadata": {},
   "source": [
    "## Nueral network\n",
    "- 퍼셉트론, 다층 퍼셉트론(MLP, multilayer perceptron)\n",
    "- Activation function, Gradient Descent, SGD\n",
    "- Back propagation\n"
   ]
  },
  {
   "cell_type": "markdown",
   "metadata": {},
   "source": [
    "## Sequential \n",
    "- 가장 간단한 모델\n",
    "- 선형 파이프라인(스택)을 정의\n",
    "\n",
    "#### Dense ?\n",
    "- 각 레이어의 뉴런들이, 인접한 레이어의 모든 뉴런들과 빽빽히 연결되어 있는 구조"
   ]
  },
  {
   "cell_type": "code",
   "execution_count": 1,
   "metadata": {},
   "outputs": [
    {
     "name": "stderr",
     "output_type": "stream",
     "text": [
      "Using TensorFlow backend.\n"
     ]
    }
   ],
   "source": [
    "from keras.layers.core import Dense\n",
    "from keras.models import Sequential\n",
    "\n",
    "# model = Sequential()\n",
    "# model.add(Dense(12, input_dim=8, kernel_initializer=\"random_uniform\"))"
   ]
  },
  {
   "cell_type": "markdown",
   "metadata": {},
   "source": [
    "#### Weight 초기화 옵션들 ( https://keras.io/initializers/ )\n",
    "- random_uniform, random_normal, zero 등등..\n",
    "- 참고자료 ; uniform distribution vs. normal distribution  \n",
    "   (https://www.quora.com/What-is-the-difference-between-normal-distribution-and-uniform-distribution)"
   ]
  },
  {
   "cell_type": "markdown",
   "metadata": {},
   "source": [
    "#### Activation function ( https://keras.io/activations/ )\n",
    "- sigmoid ; f(x) = 1 / (1 + e^(-x))\n",
    "- ReLU ; f(x) = max(0, x)\n",
    "- etc."
   ]
  },
  {
   "cell_type": "markdown",
   "metadata": {},
   "source": [
    "## MNIST 예제로 감잡기\n",
    "- 6만개 학습 셋, 1만개 테스트 셋\n",
    "- 각 클래스는 One hot encoding으로 표현"
   ]
  },
  {
   "cell_type": "code",
   "execution_count": 2,
   "metadata": {},
   "outputs": [],
   "source": [
    "import numpy as np\n",
    "from keras.datasets import mnist\n",
    "from keras.models import Sequential\n",
    "from keras.layers.core import Dense, Activation, Dropout\n",
    "from keras.optimizers import SGD\n",
    "from keras.utils import np_utils\n",
    "\n",
    "import matplotlib.pyplot as plt\n",
    "\n",
    "NB_EPOCH = 200\n",
    "BATCH_SIZE = 128\n",
    "VERBOSE = 1\n",
    "NB_CLASSES = 10\n",
    "OPTIMIZER = SGD()\n",
    "N_HIDDEN = 128\n",
    "VALIDATION_SPLIT = 0.2 # training data 중 얼마나 validation set으로 쓸지\n",
    "DROPOUT = 0.3"
   ]
  },
  {
   "cell_type": "markdown",
   "metadata": {},
   "source": [
    "#### 데이터 로드"
   ]
  },
  {
   "cell_type": "code",
   "execution_count": 3,
   "metadata": {},
   "outputs": [],
   "source": [
    "(X_train, y_train), (X_test, y_test) = mnist.load_data()"
   ]
  },
  {
   "cell_type": "code",
   "execution_count": 4,
   "metadata": {},
   "outputs": [
    {
     "data": {
      "text/plain": [
       "((60000, 28, 28), (60000,), (10000, 28, 28), (10000,))"
      ]
     },
     "execution_count": 4,
     "metadata": {},
     "output_type": "execute_result"
    }
   ],
   "source": [
    "X_train.shape, y_train.shape, X_test.shape, y_test.shape"
   ]
  },
  {
   "cell_type": "code",
   "execution_count": 5,
   "metadata": {},
   "outputs": [],
   "source": [
    "RESHAPED = 784\n",
    "\n",
    "X_train = X_train.reshape(60000, RESHAPED).astype('float32')\n",
    "X_test = X_test.reshape(10000, RESHAPED).astype('float32')\n",
    "\n",
    "# 0~1\n",
    "X_train /= 255\n",
    "X_test /= 255\n",
    "\n",
    "# one hot vector\n",
    "Y_train = np_utils.to_categorical(y_train, NB_CLASSES)\n",
    "Y_test = np_utils.to_categorical(y_test, NB_CLASSES)"
   ]
  },
  {
   "cell_type": "markdown",
   "metadata": {},
   "source": [
    "#### 모델 정의"
   ]
  },
  {
   "cell_type": "code",
   "execution_count": 6,
   "metadata": {},
   "outputs": [
    {
     "name": "stdout",
     "output_type": "stream",
     "text": [
      "_________________________________________________________________\n",
      "Layer (type)                 Output Shape              Param #   \n",
      "=================================================================\n",
      "dense_1 (Dense)              (None, 128)               100480    \n",
      "_________________________________________________________________\n",
      "activation_1 (Activation)    (None, 128)               0         \n",
      "_________________________________________________________________\n",
      "dropout_1 (Dropout)          (None, 128)               0         \n",
      "_________________________________________________________________\n",
      "dense_2 (Dense)              (None, 128)               16512     \n",
      "_________________________________________________________________\n",
      "activation_2 (Activation)    (None, 128)               0         \n",
      "_________________________________________________________________\n",
      "dropout_2 (Dropout)          (None, 128)               0         \n",
      "_________________________________________________________________\n",
      "dense_3 (Dense)              (None, 10)                1290      \n",
      "_________________________________________________________________\n",
      "activation_3 (Activation)    (None, 10)                0         \n",
      "=================================================================\n",
      "Total params: 118,282\n",
      "Trainable params: 118,282\n",
      "Non-trainable params: 0\n",
      "_________________________________________________________________\n"
     ]
    }
   ],
   "source": [
    "model = Sequential()\n",
    "model.add(Dense(N_HIDDEN, input_shape=(RESHAPED,)))\n",
    "model.add(Activation('relu'))\n",
    "model.add(Dropout(DROPOUT))\n",
    "model.add(Dense(N_HIDDEN))\n",
    "model.add(Activation('relu'))\n",
    "model.add(Dropout(DROPOUT))\n",
    "model.add(Dense(NB_CLASSES))\n",
    "model.add(Activation('softmax'))\n",
    "model.summary()"
   ]
  },
  {
   "cell_type": "markdown",
   "metadata": {},
   "source": [
    "#### Loss Function \n",
    "- https://keras.io/losses/\n",
    "- MSE ; 예측 값, 실제 값 사이의 평균 제곱 오차\n",
    "- Binary Cross Entropy ; *-t* x *log(p)* - *(1 - t)* x *log(1 - p)*\n",
    "- etc.\n",
    "\n",
    "#### Metric\n",
    "- https://keras.io/metrics\n",
    "- Accuracy, Precisionm, Recall"
   ]
  },
  {
   "cell_type": "markdown",
   "metadata": {},
   "source": [
    "#### 모델 컴파일"
   ]
  },
  {
   "cell_type": "code",
   "execution_count": 7,
   "metadata": {},
   "outputs": [],
   "source": [
    "model.compile(loss='categorical_crossentropy',\n",
    "             optimizer=OPTIMIZER,\n",
    "             metrics=['accuracy'])"
   ]
  },
  {
   "cell_type": "markdown",
   "metadata": {},
   "source": [
    "#### 모델 학습\n",
    "- epochs ; 학습 데이터셋 전체를 살펴본 횟수\n",
    "- batch_size ; 옵티마이저가 가중치 업데이트를 하기 전까지 살펴본 데이터 수\n",
    "- **학습 정확도는 반드시 테스트 정확도보다 높아**야 함!! (그렇지 않으면 충분히 학습된게 아니라하네)"
   ]
  },
  {
   "cell_type": "code",
   "execution_count": 8,
   "metadata": {},
   "outputs": [
    {
     "name": "stdout",
     "output_type": "stream",
     "text": [
      "Train on 48000 samples, validate on 12000 samples\n",
      "Epoch 1/200\n",
      "48000/48000 [==============================] - 1s 27us/step - loss: 1.7526 - acc: 0.4450 - val_loss: 0.9427 - val_acc: 0.8023\n",
      "Epoch 2/200\n",
      "48000/48000 [==============================] - 1s 24us/step - loss: 0.9411 - acc: 0.7125 - val_loss: 0.5453 - val_acc: 0.8633\n",
      "Epoch 3/200\n",
      "48000/48000 [==============================] - 1s 23us/step - loss: 0.7101 - acc: 0.7834 - val_loss: 0.4324 - val_acc: 0.8833\n",
      "Epoch 4/200\n",
      "48000/48000 [==============================] - 1s 25us/step - loss: 0.6015 - acc: 0.8168 - val_loss: 0.3777 - val_acc: 0.8940\n",
      "Epoch 5/200\n",
      "48000/48000 [==============================] - 1s 26us/step - loss: 0.5430 - acc: 0.8362 - val_loss: 0.3435 - val_acc: 0.9031\n",
      "Epoch 6/200\n",
      "48000/48000 [==============================] - 1s 24us/step - loss: 0.4979 - acc: 0.8520 - val_loss: 0.3194 - val_acc: 0.9080\n",
      "Epoch 7/200\n",
      "48000/48000 [==============================] - 1s 23us/step - loss: 0.4630 - acc: 0.8629 - val_loss: 0.3024 - val_acc: 0.9110\n",
      "Epoch 8/200\n",
      "48000/48000 [==============================] - 1s 23us/step - loss: 0.4395 - acc: 0.8707 - val_loss: 0.2866 - val_acc: 0.9152\n",
      "Epoch 9/200\n",
      "48000/48000 [==============================] - 1s 23us/step - loss: 0.4154 - acc: 0.8781 - val_loss: 0.2730 - val_acc: 0.9193\n",
      "Epoch 10/200\n",
      "48000/48000 [==============================] - 1s 25us/step - loss: 0.4003 - acc: 0.8805 - val_loss: 0.2618 - val_acc: 0.9237\n",
      "Epoch 11/200\n",
      "48000/48000 [==============================] - 1s 24us/step - loss: 0.3823 - acc: 0.8886 - val_loss: 0.2532 - val_acc: 0.9248\n",
      "Epoch 12/200\n",
      "48000/48000 [==============================] - 1s 24us/step - loss: 0.3678 - acc: 0.8927 - val_loss: 0.2442 - val_acc: 0.9273\n",
      "Epoch 13/200\n",
      "48000/48000 [==============================] - 1s 25us/step - loss: 0.3548 - acc: 0.8956 - val_loss: 0.2352 - val_acc: 0.9301\n",
      "Epoch 14/200\n",
      "48000/48000 [==============================] - 1s 24us/step - loss: 0.3452 - acc: 0.8987 - val_loss: 0.2281 - val_acc: 0.9325\n",
      "Epoch 15/200\n",
      "48000/48000 [==============================] - 1s 24us/step - loss: 0.3346 - acc: 0.9023 - val_loss: 0.2211 - val_acc: 0.9353\n",
      "Epoch 16/200\n",
      "48000/48000 [==============================] - 1s 25us/step - loss: 0.3214 - acc: 0.9051 - val_loss: 0.2143 - val_acc: 0.9375\n",
      "Epoch 17/200\n",
      "48000/48000 [==============================] - 1s 24us/step - loss: 0.3140 - acc: 0.9080 - val_loss: 0.2088 - val_acc: 0.9394\n",
      "Epoch 18/200\n",
      "48000/48000 [==============================] - 1s 24us/step - loss: 0.3081 - acc: 0.9104 - val_loss: 0.2038 - val_acc: 0.9409\n",
      "Epoch 19/200\n",
      "48000/48000 [==============================] - 1s 24us/step - loss: 0.2956 - acc: 0.9135 - val_loss: 0.1986 - val_acc: 0.9417\n",
      "Epoch 20/200\n",
      "48000/48000 [==============================] - 1s 23us/step - loss: 0.2905 - acc: 0.9146 - val_loss: 0.1933 - val_acc: 0.9436\n",
      "Epoch 21/200\n",
      "48000/48000 [==============================] - 1s 23us/step - loss: 0.2835 - acc: 0.9173 - val_loss: 0.1895 - val_acc: 0.9443\n",
      "Epoch 22/200\n",
      "48000/48000 [==============================] - 1s 24us/step - loss: 0.2776 - acc: 0.9188 - val_loss: 0.1854 - val_acc: 0.9455\n",
      "Epoch 23/200\n",
      "48000/48000 [==============================] - 1s 24us/step - loss: 0.2733 - acc: 0.9209 - val_loss: 0.1810 - val_acc: 0.9469\n",
      "Epoch 24/200\n",
      "48000/48000 [==============================] - 1s 25us/step - loss: 0.2655 - acc: 0.9223 - val_loss: 0.1764 - val_acc: 0.9483\n",
      "Epoch 25/200\n",
      "48000/48000 [==============================] - 1s 25us/step - loss: 0.2617 - acc: 0.9226 - val_loss: 0.1742 - val_acc: 0.9493\n",
      "Epoch 26/200\n",
      "48000/48000 [==============================] - 1s 24us/step - loss: 0.2548 - acc: 0.9256 - val_loss: 0.1704 - val_acc: 0.9503\n",
      "Epoch 27/200\n",
      "48000/48000 [==============================] - 1s 23us/step - loss: 0.2500 - acc: 0.9265 - val_loss: 0.1688 - val_acc: 0.9505\n",
      "Epoch 28/200\n",
      "48000/48000 [==============================] - 1s 24us/step - loss: 0.2469 - acc: 0.9268 - val_loss: 0.1644 - val_acc: 0.9524\n",
      "Epoch 29/200\n",
      "48000/48000 [==============================] - 1s 23us/step - loss: 0.2419 - acc: 0.9286 - val_loss: 0.1617 - val_acc: 0.9532\n",
      "Epoch 30/200\n",
      "48000/48000 [==============================] - 1s 24us/step - loss: 0.2388 - acc: 0.9298 - val_loss: 0.1579 - val_acc: 0.9548\n",
      "Epoch 31/200\n",
      "48000/48000 [==============================] - 1s 24us/step - loss: 0.2333 - acc: 0.9303 - val_loss: 0.1556 - val_acc: 0.9556\n",
      "Epoch 32/200\n",
      "48000/48000 [==============================] - 1s 24us/step - loss: 0.2298 - acc: 0.9333 - val_loss: 0.1534 - val_acc: 0.9561\n",
      "Epoch 33/200\n",
      "48000/48000 [==============================] - 1s 24us/step - loss: 0.2254 - acc: 0.9345 - val_loss: 0.1501 - val_acc: 0.9574\n",
      "Epoch 34/200\n",
      "48000/48000 [==============================] - 1s 25us/step - loss: 0.2234 - acc: 0.9354 - val_loss: 0.1487 - val_acc: 0.9575\n",
      "Epoch 35/200\n",
      "48000/48000 [==============================] - 1s 24us/step - loss: 0.2206 - acc: 0.9355 - val_loss: 0.1484 - val_acc: 0.9568\n",
      "Epoch 36/200\n",
      "48000/48000 [==============================] - 1s 24us/step - loss: 0.2173 - acc: 0.9357 - val_loss: 0.1444 - val_acc: 0.9583\n",
      "Epoch 37/200\n",
      "48000/48000 [==============================] - 1s 23us/step - loss: 0.2134 - acc: 0.9377 - val_loss: 0.1430 - val_acc: 0.9587\n",
      "Epoch 38/200\n",
      "48000/48000 [==============================] - 1s 25us/step - loss: 0.2114 - acc: 0.9386 - val_loss: 0.1405 - val_acc: 0.9594\n",
      "Epoch 39/200\n",
      "48000/48000 [==============================] - 1s 25us/step - loss: 0.2046 - acc: 0.9401 - val_loss: 0.1396 - val_acc: 0.9597\n",
      "Epoch 40/200\n",
      "48000/48000 [==============================] - 1s 24us/step - loss: 0.2054 - acc: 0.9396 - val_loss: 0.1372 - val_acc: 0.9593\n",
      "Epoch 41/200\n",
      "48000/48000 [==============================] - 1s 25us/step - loss: 0.2018 - acc: 0.9411 - val_loss: 0.1364 - val_acc: 0.9597\n",
      "Epoch 42/200\n",
      "48000/48000 [==============================] - 1s 25us/step - loss: 0.1979 - acc: 0.9424 - val_loss: 0.1347 - val_acc: 0.9609\n",
      "Epoch 43/200\n",
      "48000/48000 [==============================] - 1s 24us/step - loss: 0.1961 - acc: 0.9433 - val_loss: 0.1327 - val_acc: 0.9613\n",
      "Epoch 44/200\n",
      "48000/48000 [==============================] - 1s 24us/step - loss: 0.1910 - acc: 0.9450 - val_loss: 0.1313 - val_acc: 0.9613\n",
      "Epoch 45/200\n",
      "48000/48000 [==============================] - 1s 23us/step - loss: 0.1954 - acc: 0.9422 - val_loss: 0.1298 - val_acc: 0.9623\n",
      "Epoch 46/200\n",
      "48000/48000 [==============================] - 1s 24us/step - loss: 0.1876 - acc: 0.9450 - val_loss: 0.1285 - val_acc: 0.9628\n",
      "Epoch 47/200\n",
      "48000/48000 [==============================] - 1s 23us/step - loss: 0.1868 - acc: 0.9456 - val_loss: 0.1271 - val_acc: 0.9635\n",
      "Epoch 48/200\n",
      "48000/48000 [==============================] - 1s 22us/step - loss: 0.1856 - acc: 0.9451 - val_loss: 0.1259 - val_acc: 0.9637\n",
      "Epoch 49/200\n",
      "48000/48000 [==============================] - 1s 24us/step - loss: 0.1823 - acc: 0.9462 - val_loss: 0.1243 - val_acc: 0.9638\n",
      "Epoch 50/200\n",
      "48000/48000 [==============================] - 1s 25us/step - loss: 0.1788 - acc: 0.9475 - val_loss: 0.1236 - val_acc: 0.9639\n",
      "Epoch 51/200\n",
      "48000/48000 [==============================] - 1s 25us/step - loss: 0.1781 - acc: 0.9475 - val_loss: 0.1230 - val_acc: 0.9638\n",
      "Epoch 52/200\n",
      "48000/48000 [==============================] - 1s 25us/step - loss: 0.1776 - acc: 0.9487 - val_loss: 0.1215 - val_acc: 0.9643\n",
      "Epoch 53/200\n",
      "48000/48000 [==============================] - 1s 25us/step - loss: 0.1766 - acc: 0.9474 - val_loss: 0.1199 - val_acc: 0.9646\n",
      "Epoch 54/200\n",
      "48000/48000 [==============================] - 1s 24us/step - loss: 0.1741 - acc: 0.9495 - val_loss: 0.1198 - val_acc: 0.9651\n",
      "Epoch 55/200\n",
      "48000/48000 [==============================] - 1s 24us/step - loss: 0.1713 - acc: 0.9496 - val_loss: 0.1183 - val_acc: 0.9658\n",
      "Epoch 56/200\n",
      "48000/48000 [==============================] - 1s 24us/step - loss: 0.1691 - acc: 0.9509 - val_loss: 0.1173 - val_acc: 0.9658\n",
      "Epoch 57/200\n",
      "48000/48000 [==============================] - 1s 23us/step - loss: 0.1656 - acc: 0.9515 - val_loss: 0.1169 - val_acc: 0.9664\n",
      "Epoch 58/200\n",
      "48000/48000 [==============================] - 1s 25us/step - loss: 0.1670 - acc: 0.9514 - val_loss: 0.1162 - val_acc: 0.9661\n",
      "Epoch 59/200\n"
     ]
    },
    {
     "name": "stdout",
     "output_type": "stream",
     "text": [
      "48000/48000 [==============================] - 1s 25us/step - loss: 0.1638 - acc: 0.9511 - val_loss: 0.1146 - val_acc: 0.9668\n",
      "Epoch 60/200\n",
      "48000/48000 [==============================] - 1s 25us/step - loss: 0.1616 - acc: 0.9521 - val_loss: 0.1138 - val_acc: 0.9676\n",
      "Epoch 61/200\n",
      "48000/48000 [==============================] - 1s 24us/step - loss: 0.1613 - acc: 0.9531 - val_loss: 0.1130 - val_acc: 0.9674\n",
      "Epoch 62/200\n",
      "48000/48000 [==============================] - 1s 25us/step - loss: 0.1584 - acc: 0.9529 - val_loss: 0.1123 - val_acc: 0.9678\n",
      "Epoch 63/200\n",
      "48000/48000 [==============================] - 1s 25us/step - loss: 0.1564 - acc: 0.9541 - val_loss: 0.1113 - val_acc: 0.9677\n",
      "Epoch 64/200\n",
      "48000/48000 [==============================] - 1s 24us/step - loss: 0.1550 - acc: 0.9550 - val_loss: 0.1103 - val_acc: 0.9684\n",
      "Epoch 65/200\n",
      "48000/48000 [==============================] - 1s 24us/step - loss: 0.1557 - acc: 0.9537 - val_loss: 0.1092 - val_acc: 0.9683\n",
      "Epoch 66/200\n",
      "48000/48000 [==============================] - 1s 24us/step - loss: 0.1546 - acc: 0.9543 - val_loss: 0.1085 - val_acc: 0.9681\n",
      "Epoch 67/200\n",
      "48000/48000 [==============================] - 1s 24us/step - loss: 0.1529 - acc: 0.9549 - val_loss: 0.1087 - val_acc: 0.9681\n",
      "Epoch 68/200\n",
      "48000/48000 [==============================] - 1s 25us/step - loss: 0.1503 - acc: 0.9550 - val_loss: 0.1085 - val_acc: 0.9677\n",
      "Epoch 69/200\n",
      "48000/48000 [==============================] - 1s 24us/step - loss: 0.1493 - acc: 0.9558 - val_loss: 0.1074 - val_acc: 0.9688\n",
      "Epoch 70/200\n",
      "48000/48000 [==============================] - 1s 22us/step - loss: 0.1481 - acc: 0.9564 - val_loss: 0.1065 - val_acc: 0.9685\n",
      "Epoch 71/200\n",
      "48000/48000 [==============================] - 1s 23us/step - loss: 0.1484 - acc: 0.9557 - val_loss: 0.1058 - val_acc: 0.9691\n",
      "Epoch 72/200\n",
      "48000/48000 [==============================] - 1s 23us/step - loss: 0.1458 - acc: 0.9569 - val_loss: 0.1049 - val_acc: 0.9694\n",
      "Epoch 73/200\n",
      "48000/48000 [==============================] - 1s 24us/step - loss: 0.1465 - acc: 0.9558 - val_loss: 0.1041 - val_acc: 0.9694\n",
      "Epoch 74/200\n",
      "48000/48000 [==============================] - 1s 23us/step - loss: 0.1433 - acc: 0.9575 - val_loss: 0.1045 - val_acc: 0.9693\n",
      "Epoch 75/200\n",
      "48000/48000 [==============================] - 1s 24us/step - loss: 0.1431 - acc: 0.9576 - val_loss: 0.1033 - val_acc: 0.9696\n",
      "Epoch 76/200\n",
      "48000/48000 [==============================] - 1s 24us/step - loss: 0.1406 - acc: 0.9574 - val_loss: 0.1030 - val_acc: 0.9692\n",
      "Epoch 77/200\n",
      "48000/48000 [==============================] - 1s 23us/step - loss: 0.1416 - acc: 0.9592 - val_loss: 0.1020 - val_acc: 0.9702\n",
      "Epoch 78/200\n",
      "48000/48000 [==============================] - 1s 24us/step - loss: 0.1400 - acc: 0.9583 - val_loss: 0.1015 - val_acc: 0.9702\n",
      "Epoch 79/200\n",
      "48000/48000 [==============================] - 1s 23us/step - loss: 0.1363 - acc: 0.9607 - val_loss: 0.1008 - val_acc: 0.9699\n",
      "Epoch 80/200\n",
      "48000/48000 [==============================] - 1s 24us/step - loss: 0.1365 - acc: 0.9607 - val_loss: 0.1004 - val_acc: 0.9703\n",
      "Epoch 81/200\n",
      "48000/48000 [==============================] - 1s 23us/step - loss: 0.1350 - acc: 0.9602 - val_loss: 0.1000 - val_acc: 0.9703\n",
      "Epoch 82/200\n",
      "48000/48000 [==============================] - 1s 24us/step - loss: 0.1351 - acc: 0.9595 - val_loss: 0.0998 - val_acc: 0.9708\n",
      "Epoch 83/200\n",
      "48000/48000 [==============================] - 1s 24us/step - loss: 0.1316 - acc: 0.9612 - val_loss: 0.0993 - val_acc: 0.9709\n",
      "Epoch 84/200\n",
      "48000/48000 [==============================] - 1s 23us/step - loss: 0.1312 - acc: 0.9609 - val_loss: 0.0991 - val_acc: 0.9706\n",
      "Epoch 85/200\n",
      "48000/48000 [==============================] - 1s 23us/step - loss: 0.1311 - acc: 0.9613 - val_loss: 0.0981 - val_acc: 0.9708\n",
      "Epoch 86/200\n",
      "48000/48000 [==============================] - 1s 24us/step - loss: 0.1289 - acc: 0.9616 - val_loss: 0.0972 - val_acc: 0.9713\n",
      "Epoch 87/200\n",
      "48000/48000 [==============================] - 1s 24us/step - loss: 0.1314 - acc: 0.9613 - val_loss: 0.0972 - val_acc: 0.9713\n",
      "Epoch 88/200\n",
      "48000/48000 [==============================] - 1s 23us/step - loss: 0.1279 - acc: 0.9620 - val_loss: 0.0973 - val_acc: 0.9713\n",
      "Epoch 89/200\n",
      "48000/48000 [==============================] - 1s 23us/step - loss: 0.1252 - acc: 0.9630 - val_loss: 0.0966 - val_acc: 0.9713\n",
      "Epoch 90/200\n",
      "48000/48000 [==============================] - 1s 24us/step - loss: 0.1271 - acc: 0.9615 - val_loss: 0.0961 - val_acc: 0.9713\n",
      "Epoch 91/200\n",
      "48000/48000 [==============================] - 1s 24us/step - loss: 0.1271 - acc: 0.9613 - val_loss: 0.0964 - val_acc: 0.9715\n",
      "Epoch 92/200\n",
      "48000/48000 [==============================] - 1s 23us/step - loss: 0.1239 - acc: 0.9636 - val_loss: 0.0956 - val_acc: 0.9717\n",
      "Epoch 93/200\n",
      "48000/48000 [==============================] - 1s 23us/step - loss: 0.1257 - acc: 0.9619 - val_loss: 0.0954 - val_acc: 0.9718\n",
      "Epoch 94/200\n",
      "48000/48000 [==============================] - 1s 24us/step - loss: 0.1242 - acc: 0.9630 - val_loss: 0.0952 - val_acc: 0.9721\n",
      "Epoch 95/200\n",
      "48000/48000 [==============================] - 1s 23us/step - loss: 0.1228 - acc: 0.9635 - val_loss: 0.0952 - val_acc: 0.9722\n",
      "Epoch 96/200\n",
      "48000/48000 [==============================] - 1s 25us/step - loss: 0.1227 - acc: 0.9629 - val_loss: 0.0939 - val_acc: 0.9724\n",
      "Epoch 97/200\n",
      "48000/48000 [==============================] - 1s 24us/step - loss: 0.1193 - acc: 0.9646 - val_loss: 0.0934 - val_acc: 0.9728\n",
      "Epoch 98/200\n",
      "48000/48000 [==============================] - 1s 24us/step - loss: 0.1201 - acc: 0.9636 - val_loss: 0.0932 - val_acc: 0.9726\n",
      "Epoch 99/200\n",
      "48000/48000 [==============================] - 1s 24us/step - loss: 0.1167 - acc: 0.9648 - val_loss: 0.0934 - val_acc: 0.9723\n",
      "Epoch 100/200\n",
      "48000/48000 [==============================] - 1s 23us/step - loss: 0.1181 - acc: 0.9645 - val_loss: 0.0930 - val_acc: 0.9722\n",
      "Epoch 101/200\n",
      "48000/48000 [==============================] - 1s 24us/step - loss: 0.1171 - acc: 0.9652 - val_loss: 0.0925 - val_acc: 0.9723\n",
      "Epoch 102/200\n",
      "48000/48000 [==============================] - 1s 24us/step - loss: 0.1161 - acc: 0.9654 - val_loss: 0.0926 - val_acc: 0.9727\n",
      "Epoch 103/200\n",
      "48000/48000 [==============================] - 1s 24us/step - loss: 0.1149 - acc: 0.9664 - val_loss: 0.0917 - val_acc: 0.9722\n",
      "Epoch 104/200\n",
      "48000/48000 [==============================] - 1s 23us/step - loss: 0.1162 - acc: 0.9653 - val_loss: 0.0913 - val_acc: 0.9732\n",
      "Epoch 105/200\n",
      "48000/48000 [==============================] - 1s 24us/step - loss: 0.1138 - acc: 0.9663 - val_loss: 0.0910 - val_acc: 0.9728\n",
      "Epoch 106/200\n",
      "48000/48000 [==============================] - 1s 24us/step - loss: 0.1129 - acc: 0.9667 - val_loss: 0.0908 - val_acc: 0.9729\n",
      "Epoch 107/200\n",
      "48000/48000 [==============================] - 1s 24us/step - loss: 0.1146 - acc: 0.9657 - val_loss: 0.0907 - val_acc: 0.9729\n",
      "Epoch 108/200\n",
      "48000/48000 [==============================] - 1s 25us/step - loss: 0.1139 - acc: 0.9665 - val_loss: 0.0900 - val_acc: 0.9735\n",
      "Epoch 109/200\n",
      "48000/48000 [==============================] - 1s 23us/step - loss: 0.1129 - acc: 0.9669 - val_loss: 0.0897 - val_acc: 0.9731\n",
      "Epoch 110/200\n",
      "48000/48000 [==============================] - 1s 25us/step - loss: 0.1133 - acc: 0.9662 - val_loss: 0.0897 - val_acc: 0.9732\n",
      "Epoch 111/200\n",
      "48000/48000 [==============================] - 1s 25us/step - loss: 0.1117 - acc: 0.9660 - val_loss: 0.0898 - val_acc: 0.9730\n",
      "Epoch 112/200\n",
      "48000/48000 [==============================] - 1s 25us/step - loss: 0.1099 - acc: 0.9671 - val_loss: 0.0893 - val_acc: 0.9735\n",
      "Epoch 113/200\n",
      "48000/48000 [==============================] - 1s 24us/step - loss: 0.1097 - acc: 0.9660 - val_loss: 0.0887 - val_acc: 0.9738\n",
      "Epoch 114/200\n",
      "48000/48000 [==============================] - 1s 23us/step - loss: 0.1062 - acc: 0.9672 - val_loss: 0.0891 - val_acc: 0.9731\n",
      "Epoch 115/200\n",
      "48000/48000 [==============================] - 1s 22us/step - loss: 0.1086 - acc: 0.9674 - val_loss: 0.0887 - val_acc: 0.9738\n",
      "Epoch 116/200\n",
      "48000/48000 [==============================] - 1s 22us/step - loss: 0.1087 - acc: 0.9665 - val_loss: 0.0880 - val_acc: 0.9732\n",
      "Epoch 117/200\n",
      "48000/48000 [==============================] - 1s 22us/step - loss: 0.1063 - acc: 0.9676 - val_loss: 0.0889 - val_acc: 0.9738\n"
     ]
    },
    {
     "name": "stdout",
     "output_type": "stream",
     "text": [
      "Epoch 118/200\n",
      "48000/48000 [==============================] - 1s 24us/step - loss: 0.1070 - acc: 0.9669 - val_loss: 0.0880 - val_acc: 0.9737\n",
      "Epoch 119/200\n",
      "48000/48000 [==============================] - 1s 23us/step - loss: 0.1041 - acc: 0.9689 - val_loss: 0.0885 - val_acc: 0.9731\n",
      "Epoch 120/200\n",
      "48000/48000 [==============================] - 1s 22us/step - loss: 0.1053 - acc: 0.9685 - val_loss: 0.0875 - val_acc: 0.9740\n",
      "Epoch 121/200\n",
      "48000/48000 [==============================] - 1s 23us/step - loss: 0.1045 - acc: 0.9676 - val_loss: 0.0878 - val_acc: 0.9735\n",
      "Epoch 122/200\n",
      "48000/48000 [==============================] - 1s 23us/step - loss: 0.1031 - acc: 0.9700 - val_loss: 0.0880 - val_acc: 0.9738\n",
      "Epoch 123/200\n",
      "48000/48000 [==============================] - 1s 23us/step - loss: 0.1029 - acc: 0.9689 - val_loss: 0.0872 - val_acc: 0.9740\n",
      "Epoch 124/200\n",
      "48000/48000 [==============================] - 1s 22us/step - loss: 0.1035 - acc: 0.9682 - val_loss: 0.0868 - val_acc: 0.9734\n",
      "Epoch 125/200\n",
      "48000/48000 [==============================] - 1s 23us/step - loss: 0.1012 - acc: 0.9697 - val_loss: 0.0870 - val_acc: 0.9735\n",
      "Epoch 126/200\n",
      "48000/48000 [==============================] - 1s 22us/step - loss: 0.1002 - acc: 0.9696 - val_loss: 0.0868 - val_acc: 0.9741\n",
      "Epoch 127/200\n",
      "48000/48000 [==============================] - 1s 22us/step - loss: 0.1015 - acc: 0.9696 - val_loss: 0.0860 - val_acc: 0.9738\n",
      "Epoch 128/200\n",
      "48000/48000 [==============================] - 1s 24us/step - loss: 0.0993 - acc: 0.9703 - val_loss: 0.0861 - val_acc: 0.9737\n",
      "Epoch 129/200\n",
      "48000/48000 [==============================] - 1s 25us/step - loss: 0.0995 - acc: 0.9701 - val_loss: 0.0857 - val_acc: 0.9743\n",
      "Epoch 130/200\n",
      "48000/48000 [==============================] - 1s 25us/step - loss: 0.0990 - acc: 0.9704 - val_loss: 0.0853 - val_acc: 0.9745\n",
      "Epoch 131/200\n",
      "48000/48000 [==============================] - 1s 23us/step - loss: 0.1001 - acc: 0.9697 - val_loss: 0.0848 - val_acc: 0.9740\n",
      "Epoch 132/200\n",
      "48000/48000 [==============================] - 1s 24us/step - loss: 0.0996 - acc: 0.9697 - val_loss: 0.0853 - val_acc: 0.9743\n",
      "Epoch 133/200\n",
      "48000/48000 [==============================] - 1s 23us/step - loss: 0.0990 - acc: 0.9698 - val_loss: 0.0844 - val_acc: 0.9747\n",
      "Epoch 134/200\n",
      "48000/48000 [==============================] - 1s 23us/step - loss: 0.1007 - acc: 0.9697 - val_loss: 0.0848 - val_acc: 0.9750\n",
      "Epoch 135/200\n",
      "48000/48000 [==============================] - 1s 23us/step - loss: 0.0963 - acc: 0.9705 - val_loss: 0.0848 - val_acc: 0.9746\n",
      "Epoch 136/200\n",
      "48000/48000 [==============================] - 1s 23us/step - loss: 0.0979 - acc: 0.9702 - val_loss: 0.0843 - val_acc: 0.9741\n",
      "Epoch 137/200\n",
      "48000/48000 [==============================] - 1s 23us/step - loss: 0.0973 - acc: 0.9703 - val_loss: 0.0843 - val_acc: 0.9747\n",
      "Epoch 138/200\n",
      "48000/48000 [==============================] - 1s 23us/step - loss: 0.0977 - acc: 0.9705 - val_loss: 0.0846 - val_acc: 0.9743\n",
      "Epoch 139/200\n",
      "48000/48000 [==============================] - 1s 23us/step - loss: 0.0943 - acc: 0.9715 - val_loss: 0.0840 - val_acc: 0.9745\n",
      "Epoch 140/200\n",
      "48000/48000 [==============================] - 1s 23us/step - loss: 0.0963 - acc: 0.9708 - val_loss: 0.0839 - val_acc: 0.9743\n",
      "Epoch 141/200\n",
      "48000/48000 [==============================] - 1s 23us/step - loss: 0.0934 - acc: 0.9721 - val_loss: 0.0832 - val_acc: 0.9748\n",
      "Epoch 142/200\n",
      "48000/48000 [==============================] - 1s 24us/step - loss: 0.0927 - acc: 0.9718 - val_loss: 0.0841 - val_acc: 0.9746\n",
      "Epoch 143/200\n",
      "48000/48000 [==============================] - 1s 24us/step - loss: 0.0949 - acc: 0.9708 - val_loss: 0.0840 - val_acc: 0.9750\n",
      "Epoch 144/200\n",
      "48000/48000 [==============================] - 1s 24us/step - loss: 0.0952 - acc: 0.9713 - val_loss: 0.0835 - val_acc: 0.9756\n",
      "Epoch 145/200\n",
      "48000/48000 [==============================] - 1s 25us/step - loss: 0.0923 - acc: 0.9715 - val_loss: 0.0840 - val_acc: 0.9753\n",
      "Epoch 146/200\n",
      "48000/48000 [==============================] - 1s 23us/step - loss: 0.0907 - acc: 0.9726 - val_loss: 0.0830 - val_acc: 0.9751\n",
      "Epoch 147/200\n",
      "48000/48000 [==============================] - 1s 25us/step - loss: 0.0949 - acc: 0.9716 - val_loss: 0.0831 - val_acc: 0.9749\n",
      "Epoch 148/200\n",
      "48000/48000 [==============================] - 1s 23us/step - loss: 0.0919 - acc: 0.9720 - val_loss: 0.0830 - val_acc: 0.9755\n",
      "Epoch 149/200\n",
      "48000/48000 [==============================] - 1s 23us/step - loss: 0.0898 - acc: 0.9732 - val_loss: 0.0831 - val_acc: 0.9750\n",
      "Epoch 150/200\n",
      "48000/48000 [==============================] - 1s 22us/step - loss: 0.0914 - acc: 0.9719 - val_loss: 0.0831 - val_acc: 0.9752\n",
      "Epoch 151/200\n",
      "48000/48000 [==============================] - 1s 24us/step - loss: 0.0920 - acc: 0.9716 - val_loss: 0.0826 - val_acc: 0.9748\n",
      "Epoch 152/200\n",
      "48000/48000 [==============================] - 1s 23us/step - loss: 0.0896 - acc: 0.9735 - val_loss: 0.0820 - val_acc: 0.9756\n",
      "Epoch 153/200\n",
      "48000/48000 [==============================] - 1s 23us/step - loss: 0.0869 - acc: 0.9731 - val_loss: 0.0827 - val_acc: 0.9756\n",
      "Epoch 154/200\n",
      "48000/48000 [==============================] - 1s 24us/step - loss: 0.0913 - acc: 0.9726 - val_loss: 0.0823 - val_acc: 0.9750\n",
      "Epoch 155/200\n",
      "48000/48000 [==============================] - 1s 24us/step - loss: 0.0887 - acc: 0.9733 - val_loss: 0.0820 - val_acc: 0.9758\n",
      "Epoch 156/200\n",
      "48000/48000 [==============================] - 1s 24us/step - loss: 0.0899 - acc: 0.9728 - val_loss: 0.0821 - val_acc: 0.9756\n",
      "Epoch 157/200\n",
      "48000/48000 [==============================] - 1s 25us/step - loss: 0.0870 - acc: 0.9733 - val_loss: 0.0815 - val_acc: 0.9755\n",
      "Epoch 158/200\n",
      "48000/48000 [==============================] - 1s 24us/step - loss: 0.0856 - acc: 0.9744 - val_loss: 0.0819 - val_acc: 0.9758\n",
      "Epoch 159/200\n",
      "48000/48000 [==============================] - 1s 25us/step - loss: 0.0881 - acc: 0.9738 - val_loss: 0.0813 - val_acc: 0.9759\n",
      "Epoch 160/200\n",
      "48000/48000 [==============================] - 1s 24us/step - loss: 0.0863 - acc: 0.9732 - val_loss: 0.0818 - val_acc: 0.9758\n",
      "Epoch 161/200\n",
      "48000/48000 [==============================] - 1s 24us/step - loss: 0.0854 - acc: 0.9742 - val_loss: 0.0814 - val_acc: 0.9759\n",
      "Epoch 162/200\n",
      "48000/48000 [==============================] - 1s 24us/step - loss: 0.0831 - acc: 0.9752 - val_loss: 0.0811 - val_acc: 0.9760\n",
      "Epoch 163/200\n",
      "48000/48000 [==============================] - 1s 25us/step - loss: 0.0852 - acc: 0.9737 - val_loss: 0.0809 - val_acc: 0.9757\n",
      "Epoch 164/200\n",
      "48000/48000 [==============================] - 1s 24us/step - loss: 0.0836 - acc: 0.9745 - val_loss: 0.0806 - val_acc: 0.9756\n",
      "Epoch 165/200\n",
      "48000/48000 [==============================] - 1s 23us/step - loss: 0.0849 - acc: 0.9737 - val_loss: 0.0812 - val_acc: 0.9766\n",
      "Epoch 166/200\n",
      "48000/48000 [==============================] - 1s 23us/step - loss: 0.0840 - acc: 0.9746 - val_loss: 0.0806 - val_acc: 0.9758\n",
      "Epoch 167/200\n",
      "48000/48000 [==============================] - 1s 23us/step - loss: 0.0836 - acc: 0.9739 - val_loss: 0.0805 - val_acc: 0.9759\n",
      "Epoch 168/200\n",
      "48000/48000 [==============================] - 1s 25us/step - loss: 0.0855 - acc: 0.9735 - val_loss: 0.0806 - val_acc: 0.9756\n",
      "Epoch 169/200\n",
      "48000/48000 [==============================] - 1s 24us/step - loss: 0.0836 - acc: 0.9748 - val_loss: 0.0804 - val_acc: 0.9757\n",
      "Epoch 170/200\n",
      "48000/48000 [==============================] - 1s 25us/step - loss: 0.0807 - acc: 0.9748 - val_loss: 0.0799 - val_acc: 0.9760\n",
      "Epoch 171/200\n",
      "48000/48000 [==============================] - 1s 26us/step - loss: 0.0829 - acc: 0.9742 - val_loss: 0.0796 - val_acc: 0.9763\n",
      "Epoch 172/200\n",
      "48000/48000 [==============================] - 1s 24us/step - loss: 0.0816 - acc: 0.9759 - val_loss: 0.0797 - val_acc: 0.9757\n",
      "Epoch 173/200\n",
      "48000/48000 [==============================] - 1s 25us/step - loss: 0.0807 - acc: 0.9758 - val_loss: 0.0796 - val_acc: 0.9763\n",
      "Epoch 174/200\n",
      "48000/48000 [==============================] - 1s 24us/step - loss: 0.0812 - acc: 0.9750 - val_loss: 0.0791 - val_acc: 0.9762\n",
      "Epoch 175/200\n",
      "48000/48000 [==============================] - 1s 26us/step - loss: 0.0811 - acc: 0.9748 - val_loss: 0.0793 - val_acc: 0.9767\n",
      "Epoch 176/200\n"
     ]
    },
    {
     "name": "stdout",
     "output_type": "stream",
     "text": [
      "48000/48000 [==============================] - 1s 26us/step - loss: 0.0800 - acc: 0.9755 - val_loss: 0.0787 - val_acc: 0.9768\n",
      "Epoch 177/200\n",
      "48000/48000 [==============================] - 1s 24us/step - loss: 0.0801 - acc: 0.9758 - val_loss: 0.0795 - val_acc: 0.9766\n",
      "Epoch 178/200\n",
      "48000/48000 [==============================] - 1s 24us/step - loss: 0.0803 - acc: 0.9754 - val_loss: 0.0791 - val_acc: 0.9770\n",
      "Epoch 179/200\n",
      "48000/48000 [==============================] - 1s 24us/step - loss: 0.0787 - acc: 0.9755 - val_loss: 0.0790 - val_acc: 0.9768\n",
      "Epoch 180/200\n",
      "48000/48000 [==============================] - 1s 24us/step - loss: 0.0772 - acc: 0.9765 - val_loss: 0.0789 - val_acc: 0.9768\n",
      "Epoch 181/200\n",
      "48000/48000 [==============================] - 1s 24us/step - loss: 0.0779 - acc: 0.9757 - val_loss: 0.0790 - val_acc: 0.9769\n",
      "Epoch 182/200\n",
      "48000/48000 [==============================] - 1s 24us/step - loss: 0.0768 - acc: 0.9765 - val_loss: 0.0790 - val_acc: 0.9763\n",
      "Epoch 183/200\n",
      "48000/48000 [==============================] - 1s 25us/step - loss: 0.0776 - acc: 0.9758 - val_loss: 0.0784 - val_acc: 0.9766\n",
      "Epoch 184/200\n",
      "48000/48000 [==============================] - 1s 24us/step - loss: 0.0794 - acc: 0.9750 - val_loss: 0.0788 - val_acc: 0.9768\n",
      "Epoch 185/200\n",
      "48000/48000 [==============================] - 1s 24us/step - loss: 0.0773 - acc: 0.9762 - val_loss: 0.0787 - val_acc: 0.9763\n",
      "Epoch 186/200\n",
      "48000/48000 [==============================] - 1s 24us/step - loss: 0.0747 - acc: 0.9767 - val_loss: 0.0788 - val_acc: 0.9766\n",
      "Epoch 187/200\n",
      "48000/48000 [==============================] - 1s 24us/step - loss: 0.0796 - acc: 0.9752 - val_loss: 0.0787 - val_acc: 0.9769\n",
      "Epoch 188/200\n",
      "48000/48000 [==============================] - 1s 23us/step - loss: 0.0757 - acc: 0.9763 - val_loss: 0.0794 - val_acc: 0.9763\n",
      "Epoch 189/200\n",
      "48000/48000 [==============================] - 1s 22us/step - loss: 0.0746 - acc: 0.9771 - val_loss: 0.0787 - val_acc: 0.9769\n",
      "Epoch 190/200\n",
      "48000/48000 [==============================] - 1s 23us/step - loss: 0.0769 - acc: 0.9767 - val_loss: 0.0785 - val_acc: 0.9769\n",
      "Epoch 191/200\n",
      "48000/48000 [==============================] - 1s 27us/step - loss: 0.0762 - acc: 0.9771 - val_loss: 0.0781 - val_acc: 0.9768\n",
      "Epoch 192/200\n",
      "48000/48000 [==============================] - 1s 24us/step - loss: 0.0751 - acc: 0.9773 - val_loss: 0.0787 - val_acc: 0.9770\n",
      "Epoch 193/200\n",
      "48000/48000 [==============================] - 1s 23us/step - loss: 0.0771 - acc: 0.9760 - val_loss: 0.0783 - val_acc: 0.9767\n",
      "Epoch 194/200\n",
      "48000/48000 [==============================] - 1s 23us/step - loss: 0.0748 - acc: 0.9772 - val_loss: 0.0782 - val_acc: 0.9768\n",
      "Epoch 195/200\n",
      "48000/48000 [==============================] - 1s 23us/step - loss: 0.0755 - acc: 0.9767 - val_loss: 0.0776 - val_acc: 0.9773\n",
      "Epoch 196/200\n",
      "48000/48000 [==============================] - 1s 22us/step - loss: 0.0736 - acc: 0.9772 - val_loss: 0.0780 - val_acc: 0.9766\n",
      "Epoch 197/200\n",
      "48000/48000 [==============================] - 1s 24us/step - loss: 0.0740 - acc: 0.9767 - val_loss: 0.0775 - val_acc: 0.9770\n",
      "Epoch 198/200\n",
      "48000/48000 [==============================] - 1s 24us/step - loss: 0.0736 - acc: 0.9777 - val_loss: 0.0787 - val_acc: 0.9769\n",
      "Epoch 199/200\n",
      "48000/48000 [==============================] - 1s 24us/step - loss: 0.0732 - acc: 0.9767 - val_loss: 0.0776 - val_acc: 0.9770\n",
      "Epoch 200/200\n",
      "48000/48000 [==============================] - 1s 24us/step - loss: 0.0722 - acc: 0.9773 - val_loss: 0.0777 - val_acc: 0.9771\n"
     ]
    }
   ],
   "source": [
    "history = model.fit(X_train, Y_train,\n",
    "                   batch_size=BATCH_SIZE, epochs=NB_EPOCH,\n",
    "                   verbose=VERBOSE, validation_split=VALIDATION_SPLIT)"
   ]
  },
  {
   "cell_type": "markdown",
   "metadata": {},
   "source": [
    "#### 모델 평가"
   ]
  },
  {
   "cell_type": "code",
   "execution_count": 9,
   "metadata": {},
   "outputs": [
    {
     "name": "stdout",
     "output_type": "stream",
     "text": [
      "10000/10000 [==============================] - 0s 23us/step\n",
      "Test score: 0.07439806119957938\n",
      "Test accuracy: 0.978\n"
     ]
    }
   ],
   "source": [
    "score = model.evaluate(X_test, Y_test, verbose=VERBOSE)\n",
    "print(\"Test score:\", score[0])\n",
    "print(\"Test accuracy:\", score[1])"
   ]
  },
  {
   "cell_type": "markdown",
   "metadata": {},
   "source": [
    "#### 시각화"
   ]
  },
  {
   "cell_type": "code",
   "execution_count": 11,
   "metadata": {},
   "outputs": [
    {
     "data": {
      "text/plain": [
       "dict_keys(['val_loss', 'val_acc', 'loss', 'acc'])"
      ]
     },
     "execution_count": 11,
     "metadata": {},
     "output_type": "execute_result"
    }
   ],
   "source": [
    "history.history.keys()"
   ]
  },
  {
   "cell_type": "code",
   "execution_count": 12,
   "metadata": {},
   "outputs": [
    {
     "data": {
      "image/png": "[encoded data removed]",
      "text/plain": [
       "<Figure size 432x288 with 1 Axes>"
      ]
     },
     "metadata": {},
     "output_type": "display_data"
    }
   ],
   "source": [
    "plt.plot(history.history['acc'])\n",
    "plt.plot(history.history['val_acc'])\n",
    "plt.title('model accuracy')\n",
    "plt.ylabel('accuracy')\n",
    "plt.xlabel('epoch')\n",
    "plt.legend(['train', 'test'], loc='upper left')\n",
    "plt.show()"
   ]
  },
  {
   "cell_type": "code",
   "execution_count": null,
   "metadata": {},
   "outputs": [],
   "source": [
    "plt.plot(history.history['loss'])\n",
    "plt.plot(history.history['val_loss'])\n",
    "plt.title('model loss')\n",
    "plt."
   ]
  }
 ],
 "metadata": {
  "kernelspec": {
   "display_name": "Python 3",
   "language": "python",
   "name": "python3"
  },
  "language_info": {
   "codemirror_mode": {
    "name": "ipython",
    "version": 3
   },
   "file_extension": ".py",
   "mimetype": "text/x-python",
   "name": "python",
   "nbconvert_exporter": "python",
   "pygments_lexer": "ipython3",
   "version": "3.4.5"
  }
 },
 "nbformat": 4,
 "nbformat_minor": 2
}
