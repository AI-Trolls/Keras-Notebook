{
 "cells": [
  {
   "cell_type": "markdown",
   "metadata": {},
   "source": [
    "## Nueral network\n",
    "- 퍼셉트론, 다층 퍼셉트론(MLP, multilayer perceptron)\n",
    "- Activation function, Gradient Descent, SGD\n",
    "- Back propagation\n"
   ]
  },
  {
   "cell_type": "markdown",
   "metadata": {},
   "source": [
    "## Sequential \n",
    "- 가장 간단한 모델\n",
    "- 선형 파이프라인(스택)을 정의\n",
    "\n",
    "#### Dense ?\n",
    "- 각 레이어의 뉴런들이, 인접한 레이어의 모든 뉴런들과 빽빽히 연결되어 있는 구조"
   ]
  },
  {
   "cell_type": "code",
   "execution_count": 1,
   "metadata": {},
   "outputs": [
    {
     "name": "stderr",
     "output_type": "stream",
     "text": [
      "Using TensorFlow backend.\n"
     ]
    }
   ],
   "source": [
    "from keras.layers.core import Dense\n",
    "from keras.models import Sequential\n",
    "\n",
    "# model = Sequential()\n",
    "# model.add(Dense(12, input_dim=8, kernel_initializer=\"random_uniform\"))"
   ]
  },
  {
   "cell_type": "markdown",
   "metadata": {},
   "source": [
    "#### Weight 초기화 옵션들 ( https://keras.io/initializers/ )\n",
    "- random_uniform, random_normal, zero 등등..\n",
    "- 참고자료 ; uniform distribution vs. normal distribution  \n",
    "   (https://www.quora.com/What-is-the-difference-between-normal-distribution-and-uniform-distribution)"
   ]
  },
  {
   "cell_type": "markdown",
   "metadata": {},
   "source": [
    "#### Activation function ( https://keras.io/activations/ )\n",
    "- sigmoid ; f(x) = 1 / (1 + e^(-x))\n",
    "- ReLU ; f(x) = max(0, x)\n",
    "- etc."
   ]
  },
  {
   "cell_type": "markdown",
   "metadata": {},
   "source": [
    "## MNIST 예제로 감잡기\n",
    "- 6만개 학습 셋, 1만개 테스트 셋\n",
    "- 각 클래스는 One hot encoding으로 표현"
   ]
  },
  {
   "cell_type": "code",
   "execution_count": 2,
   "metadata": {},
   "outputs": [],
   "source": [
    "import numpy as np\n",
    "from keras.datasets import mnist\n",
    "from keras.models import Sequential\n",
    "from keras.layers.core import Dense, Activation, Dropout\n",
    "from keras.optimizers import SGD, Adam\n",
    "from keras.utils import np_utils\n",
    "\n",
    "import matplotlib.pyplot as plt\n",
    "\n",
    "NB_EPOCH = 20\n",
    "BATCH_SIZE = 128\n",
    "VERBOSE = 1\n",
    "NB_CLASSES = 10\n",
    "OPTIMIZER = Adam()\n",
    "N_HIDDEN = 128\n",
    "VALIDATION_SPLIT = 0.2 # training data 중 얼마나 validation set으로 쓸지\n",
    "DROPOUT = 0.3"
   ]
  },
  {
   "cell_type": "markdown",
   "metadata": {},
   "source": [
    "#### 데이터 로드"
   ]
  },
  {
   "cell_type": "code",
   "execution_count": 3,
   "metadata": {},
   "outputs": [],
   "source": [
    "(X_train, y_train), (X_test, y_test) = mnist.load_data()"
   ]
  },
  {
   "cell_type": "code",
   "execution_count": 4,
   "metadata": {},
   "outputs": [
    {
     "data": {
      "text/plain": [
       "((60000, 28, 28), (60000,), (10000, 28, 28), (10000,))"
      ]
     },
     "execution_count": 4,
     "metadata": {},
     "output_type": "execute_result"
    }
   ],
   "source": [
    "X_train.shape, y_train.shape, X_test.shape, y_test.shape"
   ]
  },
  {
   "cell_type": "code",
   "execution_count": 5,
   "metadata": {},
   "outputs": [],
   "source": [
    "RESHAPED = 784\n",
    "\n",
    "X_train = X_train.reshape(60000, RESHAPED).astype('float32')\n",
    "X_test = X_test.reshape(10000, RESHAPED).astype('float32')\n",
    "\n",
    "# 0~1\n",
    "X_train /= 255\n",
    "X_test /= 255\n",
    "\n",
    "# one hot vector\n",
    "Y_train = np_utils.to_categorical(y_train, NB_CLASSES)\n",
    "Y_test = np_utils.to_categorical(y_test, NB_CLASSES)"
   ]
  },
  {
   "cell_type": "markdown",
   "metadata": {},
   "source": [
    "#### 모델 정의"
   ]
  },
  {
   "cell_type": "code",
   "execution_count": 6,
   "metadata": {},
   "outputs": [
    {
     "name": "stdout",
     "output_type": "stream",
     "text": [
      "_________________________________________________________________\n",
      "Layer (type)                 Output Shape              Param #   \n",
      "=================================================================\n",
      "dense_1 (Dense)              (None, 128)               100480    \n",
      "_________________________________________________________________\n",
      "activation_1 (Activation)    (None, 128)               0         \n",
      "_________________________________________________________________\n",
      "dropout_1 (Dropout)          (None, 128)               0         \n",
      "_________________________________________________________________\n",
      "dense_2 (Dense)              (None, 128)               16512     \n",
      "_________________________________________________________________\n",
      "activation_2 (Activation)    (None, 128)               0         \n",
      "_________________________________________________________________\n",
      "dropout_2 (Dropout)          (None, 128)               0         \n",
      "_________________________________________________________________\n",
      "dense_3 (Dense)              (None, 10)                1290      \n",
      "_________________________________________________________________\n",
      "activation_3 (Activation)    (None, 10)                0         \n",
      "=================================================================\n",
      "Total params: 118,282\n",
      "Trainable params: 118,282\n",
      "Non-trainable params: 0\n",
      "_________________________________________________________________\n"
     ]
    }
   ],
   "source": [
    "model = Sequential()\n",
    "model.add(Dense(N_HIDDEN, input_shape=(RESHAPED,)))\n",
    "model.add(Activation('relu'))\n",
    "model.add(Dropout(DROPOUT))\n",
    "model.add(Dense(N_HIDDEN))\n",
    "model.add(Activation('relu'))\n",
    "model.add(Dropout(DROPOUT))\n",
    "model.add(Dense(NB_CLASSES))\n",
    "model.add(Activation('softmax'))\n",
    "model.summary()"
   ]
  },
  {
   "cell_type": "markdown",
   "metadata": {},
   "source": [
    "#### Loss Function \n",
    "- https://keras.io/losses/\n",
    "- MSE ; 예측 값, 실제 값 사이의 평균 제곱 오차\n",
    "- Binary Cross Entropy ; *-t* x *log(p)* - *(1 - t)* x *log(1 - p)*\n",
    "- etc.\n",
    "\n",
    "#### Metric\n",
    "- https://keras.io/metrics\n",
    "- Accuracy, Precisionm, Recall\n",
    "\n",
    "#### Optimizer\n",
    "- https://keras.io/optimizers\n",
    "- SGD, RMSprop, Adam (2개의 후자가 더 빨리 수렴. SGD에선 200에폭에 달성한 것을 20에폭에 달성할 수)"
   ]
  },
  {
   "cell_type": "markdown",
   "metadata": {},
   "source": [
    "#### 모델 컴파일"
   ]
  },
  {
   "cell_type": "code",
   "execution_count": 7,
   "metadata": {},
   "outputs": [],
   "source": [
    "model.compile(loss='categorical_crossentropy',\n",
    "             optimizer=OPTIMIZER,\n",
    "             metrics=['accuracy'])"
   ]
  },
  {
   "cell_type": "markdown",
   "metadata": {},
   "source": [
    "#### 모델 학습\n",
    "- epochs ; 학습 데이터셋 전체를 살펴본 횟수\n",
    "- batch_size ; 옵티마이저가 가중치 업데이트를 하기 전까지 살펴본 데이터 수\n",
    "- **학습 정확도는 반드시 테스트 정확도보다 높아**야 함!! (그렇지 않으면 충분히 학습된게 아니라하네)"
   ]
  },
  {
   "cell_type": "code",
   "execution_count": 8,
   "metadata": {},
   "outputs": [
    {
     "name": "stdout",
     "output_type": "stream",
     "text": [
      "Train on 48000 samples, validate on 12000 samples\n",
      "Epoch 1/20\n",
      "48000/48000 [==============================] - 1s 30us/step - loss: 0.5157 - acc: 0.8420 - val_loss: 0.1846 - val_acc: 0.9465\n",
      "Epoch 2/20\n",
      "48000/48000 [==============================] - 1s 28us/step - loss: 0.2315 - acc: 0.9322 - val_loss: 0.1395 - val_acc: 0.9582\n",
      "Epoch 3/20\n",
      "48000/48000 [==============================] - 1s 26us/step - loss: 0.1751 - acc: 0.9475 - val_loss: 0.1090 - val_acc: 0.9674\n",
      "Epoch 4/20\n",
      "48000/48000 [==============================] - 1s 26us/step - loss: 0.1482 - acc: 0.9558 - val_loss: 0.1003 - val_acc: 0.9697\n",
      "Epoch 5/20\n",
      "48000/48000 [==============================] - 1s 26us/step - loss: 0.1264 - acc: 0.9610 - val_loss: 0.0948 - val_acc: 0.9712\n",
      "Epoch 6/20\n",
      "48000/48000 [==============================] - 1s 27us/step - loss: 0.1140 - acc: 0.9649 - val_loss: 0.0858 - val_acc: 0.9739\n",
      "Epoch 7/20\n",
      "48000/48000 [==============================] - 1s 27us/step - loss: 0.1062 - acc: 0.9680 - val_loss: 0.0859 - val_acc: 0.9752\n",
      "Epoch 8/20\n",
      "48000/48000 [==============================] - 1s 28us/step - loss: 0.0948 - acc: 0.9709 - val_loss: 0.0847 - val_acc: 0.9755\n",
      "Epoch 9/20\n",
      "48000/48000 [==============================] - 1s 27us/step - loss: 0.0854 - acc: 0.9727 - val_loss: 0.0772 - val_acc: 0.9778\n",
      "Epoch 10/20\n",
      "48000/48000 [==============================] - 1s 26us/step - loss: 0.0843 - acc: 0.9732 - val_loss: 0.0807 - val_acc: 0.9767\n",
      "Epoch 11/20\n",
      "48000/48000 [==============================] - 1s 27us/step - loss: 0.0766 - acc: 0.9759 - val_loss: 0.0766 - val_acc: 0.9781\n",
      "Epoch 12/20\n",
      "48000/48000 [==============================] - 1s 27us/step - loss: 0.0746 - acc: 0.9755 - val_loss: 0.0782 - val_acc: 0.9782\n",
      "Epoch 13/20\n",
      "48000/48000 [==============================] - 1s 27us/step - loss: 0.0705 - acc: 0.9776 - val_loss: 0.0733 - val_acc: 0.9771\n",
      "Epoch 14/20\n",
      "48000/48000 [==============================] - 1s 27us/step - loss: 0.0695 - acc: 0.9780 - val_loss: 0.0808 - val_acc: 0.9762\n",
      "Epoch 15/20\n",
      "48000/48000 [==============================] - 1s 25us/step - loss: 0.0621 - acc: 0.9793 - val_loss: 0.0763 - val_acc: 0.9788\n",
      "Epoch 16/20\n",
      "48000/48000 [==============================] - 1s 26us/step - loss: 0.0625 - acc: 0.9798 - val_loss: 0.0769 - val_acc: 0.9789\n",
      "Epoch 17/20\n",
      "48000/48000 [==============================] - 1s 26us/step - loss: 0.0612 - acc: 0.9809 - val_loss: 0.0736 - val_acc: 0.9791\n",
      "Epoch 18/20\n",
      "48000/48000 [==============================] - 1s 26us/step - loss: 0.0560 - acc: 0.9821 - val_loss: 0.0752 - val_acc: 0.9782\n",
      "Epoch 19/20\n",
      "48000/48000 [==============================] - 1s 27us/step - loss: 0.0552 - acc: 0.9823 - val_loss: 0.0765 - val_acc: 0.9797\n",
      "Epoch 20/20\n",
      "48000/48000 [==============================] - 1s 26us/step - loss: 0.0516 - acc: 0.9831 - val_loss: 0.0790 - val_acc: 0.9798\n"
     ]
    }
   ],
   "source": [
    "history = model.fit(X_train, Y_train,\n",
    "                   batch_size=BATCH_SIZE, epochs=NB_EPOCH,\n",
    "                   verbose=VERBOSE, validation_split=VALIDATION_SPLIT)"
   ]
  },
  {
   "cell_type": "markdown",
   "metadata": {},
   "source": [
    "#### 모델 평가"
   ]
  },
  {
   "cell_type": "code",
   "execution_count": 9,
   "metadata": {},
   "outputs": [
    {
     "name": "stdout",
     "output_type": "stream",
     "text": [
      "10000/10000 [==============================] - 0s 25us/step\n",
      "Test score: 0.080255606818042\n",
      "Test accuracy: 0.9778\n"
     ]
    }
   ],
   "source": [
    "score = model.evaluate(X_test, Y_test, verbose=VERBOSE)\n",
    "print(\"Test score:\", score[0])\n",
    "print(\"Test accuracy:\", score[1])"
   ]
  },
  {
   "cell_type": "markdown",
   "metadata": {},
   "source": [
    "#### 시각화"
   ]
  },
  {
   "cell_type": "code",
   "execution_count": 10,
   "metadata": {},
   "outputs": [
    {
     "data": {
      "text/plain": [
       "dict_keys(['val_acc', 'val_loss', 'acc', 'loss'])"
      ]
     },
     "execution_count": 10,
     "metadata": {},
     "output_type": "execute_result"
    }
   ],
   "source": [
    "history.history.keys()"
   ]
  },
  {
   "cell_type": "code",
   "execution_count": 11,
   "metadata": {},
   "outputs": [
    {
     "data": {
      "image/png": "[encoded data removed]",
      "text/plain": [
       "<Figure size 432x288 with 1 Axes>"
      ]
     },
     "metadata": {},
     "output_type": "display_data"
    }
   ],
   "source": [
    "plt.plot(history.history['acc'])\n",
    "plt.plot(history.history['val_acc'])\n",
    "plt.title('model accuracy')\n",
    "plt.ylabel('accuracy')\n",
    "plt.xlabel('epoch')\n",
    "plt.legend(['train', 'test'], loc='upper left')\n",
    "plt.show()"
   ]
  },
  {
   "cell_type": "code",
   "execution_count": 12,
   "metadata": {},
   "outputs": [
    {
     "data": {
      "image/png": "[encoded data removed]",
      "text/plain": [
       "<Figure size 432x288 with 1 Axes>"
      ]
     },
     "metadata": {},
     "output_type": "display_data"
    }
   ],
   "source": [
    "plt.plot(history.history['loss'])\n",
    "plt.plot(history.history['val_loss'])\n",
    "plt.title('model loss')\n",
    "plt.ylabel('loss')\n",
    "plt.xlabel('epoch')\n",
    "plt.legend(['train', 'test'], loc='upper left')\n",
    "plt.show()"
   ]
  },
  {
   "cell_type": "markdown",
   "metadata": {},
   "source": [
    "#### 기타\n",
    "- 뭐든 **변경한 이후에 직접 측정**해봐야 알겠지만\n",
    "- 위 예제에선 LR = 0.001 이 적당\n",
    "- Dropout도 0.3이 적당 했음.\n",
    "- SGDs는 Batch size 만큼의 데이터만을 고려해 학습하는 방법인데, \n",
    "    - Batch 크기에 따라서도 정확도가 달라 질 수 있다. 64, 128, 256, ... 다 해보기"
   ]
  },
  {
   "cell_type": "markdown",
   "metadata": {},
   "source": [
    "#### 참고사항\n",
    "- 모델이 너무 복잡하면 학습 데이터의 수많은 내재적 관계까지 학습해 버릴 가능성 있음\n",
    "- 이렇게되면 처음 본 데이터에 대해 일반화 할 수 없음.\n",
    "- Overfitting\n",
    "- 보통 validation set에 대한 loss는 감소하다가 증가하는 경향 있다. 그 시점에 오버피팅을 의심해 봐야함\n",
    "- 모델 A, B가 있고 A가 B보다 복잡할 때 두 개가 거의 동일한 성능을 보인다면 덜 복잡한 B를 선택하는게 낫다"
   ]
  },
  {
   "cell_type": "markdown",
   "metadata": {},
   "source": [
    "#### Regularization이 필요하다!\n",
    "- https://keras.io/regularizers\n",
    "- L1 regularization(lasso) ; 모델의 복잡도를 가중치 절댓값의 합으로 표현\n",
    "- L2 regularization(ridge) ; 모델의 복잡도를 가중치의 제곱 합으로 표현\n",
    "- Elastic net regularization ; 앞에 두가지 조합"
   ]
  },
  {
   "cell_type": "markdown",
   "metadata": {},
   "source": [
    "#### 예측하기\n",
    "- model.predict()\n",
    "- model.evaluate() ; loss 값 계산\n",
    "- model.predict_classes() ; 범주 출력 계산\n",
    "- model.predict_proba() ; 범주 확률 계산"
   ]
  },
  {
   "cell_type": "code",
   "execution_count": 20,
   "metadata": {},
   "outputs": [],
   "source": [
    "predictions = model.predict_classes(X_test[0].reshape(-1, 784))"
   ]
  },
  {
   "cell_type": "code",
   "execution_count": 22,
   "metadata": {},
   "outputs": [
    {
     "data": {
      "text/plain": [
       "(array([7]), array([0., 0., 0., 0., 0., 0., 0., 1., 0., 0.]))"
      ]
     },
     "execution_count": 22,
     "metadata": {},
     "output_type": "execute_result"
    }
   ],
   "source": [
    "predictions, Y_test[0]"
   ]
  }
 ],
 "metadata": {
  "kernelspec": {
   "display_name": "Python 3",
   "language": "python",
   "name": "python3"
  },
  "language_info": {
   "codemirror_mode": {
    "name": "ipython",
    "version": 3
   },
   "file_extension": ".py",
   "mimetype": "text/x-python",
   "name": "python",
   "nbconvert_exporter": "python",
   "pygments_lexer": "ipython3",
   "version": "3.4.5"
  }
 },
 "nbformat": 4,
 "nbformat_minor": 2
}
