{
 "cells": [
  {
   "cell_type": "markdown",
   "metadata": {},
   "source": [
    "## 유용한 패키지들\n",
    "- numpy, scipy ; 당연한거\n",
    "- scikit-learn ; 머신러닝 툴\n",
    "- Pillow ; 이미지 처리\n",
    "- h5py ; 모델 저장시 데이터 직렬화"
   ]
  },
  {
   "cell_type": "markdown",
   "metadata": {},
   "source": [
    "## 케라스는..\n",
    "- Modularity ; 레고 처럼 결합해서 뉴럴넷 구축 \n",
    "    - 라이브러리에서 다양한 종류의 뉴럴넷, cost function, optimizer, initializer, activation etc. 도구들을 제공함\n",
    "- Minimalism ; 간단 데스\n",
    "- Scalability ; 새로운 기능을 갖게 확장가능한 라이브러리들"
   ]
  },
  {
   "cell_type": "markdown",
   "metadata": {},
   "source": [
    "## 케라스 구조\n",
    "- 케라스에서 모델을 만드는 법에는 2가지\n",
    "    - Sequential 구성 ; 사전에 정의된 다양한 모델을 선형 파이프라인으로 쌓음\n",
    "    - Functional 구성 ; 함수 API를 이용해 Directed Acyclick Graph, 공유 계층이 있는 모델, 다중 출력 모델 같은 복잡 모델 구현 가능\n",
    "    "
   ]
  },
  {
   "cell_type": "markdown",
   "metadata": {},
   "source": [
    "## Pre-defined Neural Net\n",
    "- keras.layers.core.**Dense** \n",
    "    - completely 연결되있는 NN\n",
    "- keras.layers.recurrent.**Recurrent, SimpleRNN, GRU, LSTM**\n",
    "- keras.layers.convolutional.**Conv1D, Conv2D**\n",
    "- keras.layers.pooling.**MaxPooling1D, MaxPooling2D**\n",
    "- Regularization(일반화) ; 과적합 방지\n",
    "    - 파라미터들\n",
    "        - kernel_regularizer ; 가중치 행렬에 적용되는 일반화 함수\n",
    "        - bias_regularizer ; 바이어스 벡터에 적용되는 ~\n",
    "        - activity_regularizer ; 계층의 출력에 적용되는 ~ \n",
    "    - 드롭아웃\n",
    "        - keras.layer.core.**Dropout**\n",
    "- Batch normalization\n",
    "    - 학습 속도를 더 빠르게 하고, 더 나은 정확도를 만드는 방법\n",
    "    - keras.layers.normalization.**BatchNormalization**"
   ]
  },
  {
   "cell_type": "markdown",
   "metadata": {},
   "source": [
    "## Loss Function\n",
    "\n",
    "- https://keras.io/losses/\n",
    "- mse, rmse mae, mape, msle...\n",
    "- hinge loss ; 분류기 학습시 사용, max(1 - y_true * y_pred, 0)\n",
    "- cross entropy"
   ]
  },
  {
   "cell_type": "markdown",
   "metadata": {},
   "source": [
    "## Metrics\n",
    "- https://keras.io/metrics/\n",
    "- binary_accuracy ; 이진 분류 문제\n",
    "- categorical_accuracy ; multi-class 분류 문제\n",
    "- sparse_categorical_accuracy ; ?\n",
    "- top_k_categorical_accuracy ; top_k 안에 포함되었을 때 성공"
   ]
  },
  {
   "cell_type": "markdown",
   "metadata": {},
   "source": [
    "## 기타 유용한 기능스"
   ]
  },
  {
   "cell_type": "markdown",
   "metadata": {},
   "source": [
    "#### 모델 가중치 및 구조 저장\n",
    "\n",
    "```python \n",
    "json_string = model.to_json()\n",
    "yaml_string = model.to_yaml()\n",
    "\n",
    "from keras.models import model_from_json, model_from_yaml\n",
    "model = model_from_json(json_string)\n",
    "model = model_from_yaml(yaml_string)\n",
    "```"
   ]
  },
  {
   "cell_type": "markdown",
   "metadata": {},
   "source": [
    "#### 모델 가중치 저장법\n",
    "- 이거로 충분한거 같은데, to_json, yaml은 언제쓰는겨\n",
    "```python\n",
    "from keras.models import load_model\n",
    "model.save('my_model.h5') # HDF5 file\n",
    "model = load_model('my_model.h5') # 컴파일된 모델 복구\n",
    "```"
   ]
  },
  {
   "cell_type": "markdown",
   "metadata": {},
   "source": [
    "## 학습 과정 커스터마이징\n",
    "- 학습 과정 중에 metric이 더이상 개선 안되면 학습 종료 가능\n",
    "    - keras.callbacks.**EarlyStopping**\n",
    "- 콜백을 이용해서 loss history를 저장하거나 할 수도 있다 (책 예제는 안돌아감) \n",
    "    - https://github.com/keunwoochoi/keras_callbacks_example"
   ]
  },
  {
   "cell_type": "markdown",
   "metadata": {},
   "source": [
    "## 체크포인트\n",
    "- 주기적으로 모델의 스냅샷 저장 가능\n",
    "    - **keras.callbacks.ModelCheckpoint** 인스턴스를 만들어서 fit의 callbacks에 추가하면되고\n",
    "    - 이전에 저장한 체크포인트보다 나을 때만 저장하려면 컨스트럭터에서 save_best_only=true로 설정한다.\n",
    "- 01번 예제에 바로 적용해본다."
   ]
  },
  {
   "cell_type": "markdown",
   "metadata": {},
   "source": [
    "## 텐서보드\n",
    "- keras.callbacks.**TensorBoard**(log_dir='./logs', histogram_freq=0, write_graph=True, write_images=False)\n",
    "- 이후에 **tensorboard --logdir=주소** 입력하면 실행"
   ]
  },
  {
   "cell_type": "markdown",
   "metadata": {},
   "source": [
    "## 퀴버를 통한 CNN 시각화\n",
    "- pip instlal quiver_engine\n",
    "```python\n",
    "from quiver_engine import server\n",
    "server.launch(model)\n",
    "```"
   ]
  },
  {
   "cell_type": "code",
   "execution_count": null,
   "metadata": {},
   "outputs": [],
   "source": []
  }
 ],
 "metadata": {
  "kernelspec": {
   "display_name": "Python 3",
   "language": "python",
   "name": "python3"
  },
  "language_info": {
   "codemirror_mode": {
    "name": "ipython",
    "version": 3
   },
   "file_extension": ".py",
   "mimetype": "text/x-python",
   "name": "python",
   "nbconvert_exporter": "python",
   "pygments_lexer": "ipython3",
   "version": "3.4.5"
  }
 },
 "nbformat": 4,
 "nbformat_minor": 2
}
