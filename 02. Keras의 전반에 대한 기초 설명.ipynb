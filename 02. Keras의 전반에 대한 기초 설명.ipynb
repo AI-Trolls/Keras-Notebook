{
 "cells": [
  {
   "cell_type": "markdown",
   "metadata": {},
   "source": [
    "## 유용한 패키지들\n",
    "- numpy, scipy ; 당연한거\n",
    "- scikit-learn ; 머신러닝 툴\n",
    "- Pillow ; 이미지 처리\n",
    "- h5py ; 모델 저장시 데이터 직렬화"
   ]
  },
  {
   "cell_type": "markdown",
   "metadata": {},
   "source": [
    "## 케라스는..\n",
    "- Modularity ; 레고 처럼 결합해서 뉴럴넷 구축 \n",
    "    - 라이브러리에서 다양한 종류의 뉴럴넷, cost function, optimizer, initializer, activation etc. 도구들을 제공함\n",
    "- Minimalism ; 간단 데스\n",
    "- Scalability ; 새로운 기능을 갖게 확장가능한 라이브러리들"
   ]
  },
  {
   "cell_type": "markdown",
   "metadata": {},
   "source": [
    "## 케라스 구조\n",
    "- 케라스에서 모델을 만드는 법에는 2가지\n",
    "    - Sequential 구성 ; 사전에 정의된 다양한 모델을 선형 파이프라인으로 쌓음\n",
    "    - Functional 구성 ; 함수 API를 이용해 Directed Acyclick Graph, 공유 계층이 있는 모델, 다중 출력 모델 같은 복잡 모델 구현 가능\n",
    "    "
   ]
  },
  {
   "cell_type": "markdown",
   "metadata": {},
   "source": [
    "## Pre-defined Neural Net\n",
    "- keras.layers.core.**Dense** \n",
    "    - completely 연결되있는 NN\n",
    "- keras.layers.recurrent.**Recurrent, SimpleRNN, GRU, LSTM**\n",
    "- keras.layers.convolutional.**Conv1D, Conv2D**\n",
    "- keras.layers.pooling.**MaxPooling1D, MaxPooling2D**\n",
    "- Regularization(일반화) ; 과적합 방지\n",
    "    - 파라미터들\n",
    "        - kernel_regularizer ; 가중치 행렬에 적용되는 일반화 함수\n",
    "        - bias_regularizer ; 바이어스 벡터에 적용되는 ~\n",
    "        - activity_regularizer ; 계층의 출력에 적용되는 ~ \n",
    "    - 드롭아웃\n",
    "        - keras.layer.core.**Dropout**\n",
    "- Batch normalization\n",
    "    - 학습 속도를 더 빠르게 하고, 더 나은 정확도를 만드는 방법\n",
    "    - keras.layers.normalization.**BatchNormalization**"
   ]
  },
  {
   "cell_type": "markdown",
   "metadata": {},
   "source": [
    "## Loss Function\n",
    "\n",
    "- https://keras.io/losses/\n",
    "- mse, rmse mae, mape, msle...\n",
    "- hinge loss ; 분류기 학습시 사용, max(1 - y_true * y_pred, 0)\n",
    "- cross entropy"
   ]
  },
  {
   "cell_type": "markdown",
   "metadata": {},
   "source": [
    "## Metrics\n",
    "- https://keras.io/metrics/\n",
    "- binary_accuracy ; 이진 분류 문제\n",
    "- categorical_accuracy ; multi-class 분류 문제\n",
    "- sparse_categorical_accuracy ; ?\n",
    "- top_k_categorical_accuracy ; top_k 안에 포함되었을 때 성공"
   ]
  },
  {
   "cell_type": "markdown",
   "metadata": {},
   "source": [
    "## 기타 유용한 기능스"
   ]
  },
  {
   "cell_type": "markdown",
   "metadata": {},
   "source": [
    "#### 모델 가중치 및 구조 저장 ★★★★★★\n",
    "\n",
    "```python \n",
    "json_string = model.to_json()\n",
    "yaml_string = model.to_yaml()\n",
    "\n",
    "from keras.models import model_from_json, model_from_yaml\n",
    "model = model_from_json(json_string)\n",
    "model = model_from_yaml(yaml_string)\n",
    "```"
   ]
  },
  {
   "cell_type": "code",
   "execution_count": null,
   "metadata": {},
   "outputs": [],
   "source": []
  }
 ],
 "metadata": {
  "kernelspec": {
   "display_name": "Python 3",
   "language": "python",
   "name": "python3"
  },
  "language_info": {
   "codemirror_mode": {
    "name": "ipython",
    "version": 3
   },
   "file_extension": ".py",
   "mimetype": "text/x-python",
   "name": "python",
   "nbconvert_exporter": "python",
   "pygments_lexer": "ipython3",
   "version": "3.4.5"
  }
 },
 "nbformat": 4,
 "nbformat_minor": 2
}
