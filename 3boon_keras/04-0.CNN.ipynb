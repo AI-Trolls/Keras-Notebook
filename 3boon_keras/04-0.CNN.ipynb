{
 "cells": [
  {
   "cell_type": "markdown",
   "metadata": {},
   "source": [
    "## CNN\n",
    "- Convolution filter가 이미지들의 feature를 찾아 다음 레이어로 보내는 특징\n",
    "- 적은 수의 가중치로 이미지 처리 효율적으로할 수\n",
    "\n",
    "#### backend \n",
    "- backend 서브 패키지를 통해 딥러닝 엔진 제어 가능\n",
    "- 엔진에서 사용하는 시스템 파라미터값 참조 및 변경"
   ]
  },
  {
   "cell_type": "code",
   "execution_count": 1,
   "metadata": {},
   "outputs": [
    {
     "name": "stderr",
     "output_type": "stream",
     "text": [
      "Using TensorFlow backend.\n"
     ]
    }
   ],
   "source": [
    "import keras\n",
    "from keras import models, layers\n",
    "from keras import backend"
   ]
  },
  {
   "cell_type": "code",
   "execution_count": 2,
   "metadata": {},
   "outputs": [],
   "source": [
    "class CNN(models.Sequential):\n",
    "    def __init__(self, input_shape, num_classes):\n",
    "        super().__init__()\n",
    "        \n",
    "        self.add(layers.Conv2D(32, kernel_size=(3,3), activation='relu', input_shape=input_shape))\n",
    "        self.add(layers.Conv2D(64, (3,3), activation='relu'))\n",
    "        self.add(layers.MaxPooling2D(pool_size=(2,2)))\n",
    "        self.add(layers.Dropout(0.25))\n",
    "        self.add(layers.Flatten())\n",
    "        self.add(layers.Dense(128, activation='relu'))\n",
    "        self.add(layers.Dropout(0.5))\n",
    "        self.add(layers.Dense(num_classes, activation='softmax'))\n",
    "        \n",
    "        self.compile(loss=keras.losses.categorical_crossentropy,\n",
    "                    optimizer='rmsprop',\n",
    "                    metrics=['accuracy'])"
   ]
  },
  {
   "cell_type": "markdown",
   "metadata": {},
   "source": [
    "#### 데이터 준비 \n",
    "- 흑백이미지에는 채널 정보가 없으니 입력 데이터셋에 채널 정보를 추가해준다.\n",
    "- backend 설정을 참고해서 first 혹은 last에 채널정보 추가"
   ]
  },
  {
   "cell_type": "code",
   "execution_count": 3,
   "metadata": {},
   "outputs": [],
   "source": [
    "from keras import datasets\n",
    "\n",
    "class DATA():\n",
    "    def __init__(self):\n",
    "        num_classes = 10\n",
    "\n",
    "        (x_train, y_train), (x_test, y_test) = datasets.mnist.load_data()\n",
    "        img_rows, img_cols = x_train.shape[1:]\n",
    "\n",
    "        if backend.image_data_format() == 'channels_first':\n",
    "            x_train = x_train.reshape(x_train.shape[0], 1, img_rows, img_cols)\n",
    "            x_test = x_test.reshape(x_test.shape[0], 1, img_rows, img_cols)\n",
    "            input_shape = (1, img_rows, img_cols)\n",
    "        else:\n",
    "            x_train = x_train.reshape(x_train.shape[0], img_rows, img_cols, 1)\n",
    "            x_test = x_test.reshape(x_test.shape[0], img_rows, img_cols, 1)\n",
    "            input_shape = (img_rows,img_cols, 1)\n",
    "\n",
    "        x_train = x_train.astype('float32')\n",
    "        x_test = x_test.astype('float32')\n",
    "        x_train /= 255\n",
    "        x_test /= 255\n",
    "\n",
    "        y_train = keras.utils.to_categorical(y_train, num_classes)\n",
    "        y_test = keras.utils.to_categorical(y_test, num_classes)\n",
    "\n",
    "        self.input_shape = input_shape\n",
    "        self.num_classes = num_classes\n",
    "        self.x_train, self.y_train = x_train, y_train\n",
    "        self.x_test, self.y_test = x_test, y_test"
   ]
  },
  {
   "cell_type": "code",
   "execution_count": 4,
   "metadata": {},
   "outputs": [],
   "source": [
    "from keraspp.skeras import plot_acc, plot_loss\n",
    "import matplotlib.pyplot as plt\n",
    "\n",
    "def main():\n",
    "    batch_size = 128\n",
    "    epochs = 10\n",
    "    \n",
    "    data = DATA()\n",
    "    model = CNN(data.input_shape, data.num_classes)\n",
    "    \n",
    "    history = model.fit(data.x_train, data.y_train, batch_size=batch_size, epochs=epochs, validation_split=0.2)\n",
    "    \n",
    "    score = model.evaluate(data.x_test, data.y_test)\n",
    "    print()\n",
    "    print('Test loss:', score[0])\n",
    "    print('Test Acc:', score[1])\n",
    "    \n",
    "    plot_acc(history)\n",
    "    plt.show()\n",
    "    plot_loss(history)\n",
    "    plt.show()\n"
   ]
  },
  {
   "cell_type": "code",
   "execution_count": 5,
   "metadata": {},
   "outputs": [
    {
     "name": "stdout",
     "output_type": "stream",
     "text": [
      "Train on 48000 samples, validate on 12000 samples\n",
      "Epoch 1/10\n",
      "48000/48000 [==============================] - 36s 753us/step - loss: 0.2413 - acc: 0.9273 - val_loss: 0.0688 - val_acc: 0.9796\n",
      "Epoch 2/10\n",
      "48000/48000 [==============================] - 36s 749us/step - loss: 0.0887 - acc: 0.9741 - val_loss: 0.0516 - val_acc: 0.9847\n",
      "Epoch 3/10\n",
      "48000/48000 [==============================] - 36s 748us/step - loss: 0.0671 - acc: 0.9805 - val_loss: 0.0486 - val_acc: 0.9859\n",
      "Epoch 4/10\n",
      "48000/48000 [==============================] - 36s 748us/step - loss: 0.0548 - acc: 0.9843 - val_loss: 0.0463 - val_acc: 0.9879\n",
      "Epoch 5/10\n",
      "48000/48000 [==============================] - 36s 748us/step - loss: 0.0467 - acc: 0.9859 - val_loss: 0.0450 - val_acc: 0.9886\n",
      "Epoch 6/10\n",
      "48000/48000 [==============================] - 36s 747us/step - loss: 0.0448 - acc: 0.9866 - val_loss: 0.0396 - val_acc: 0.9886\n",
      "Epoch 7/10\n",
      "48000/48000 [==============================] - 36s 747us/step - loss: 0.0451 - acc: 0.9867 - val_loss: 0.0400 - val_acc: 0.9897\n",
      "Epoch 8/10\n",
      "48000/48000 [==============================] - 36s 749us/step - loss: 0.0450 - acc: 0.9868 - val_loss: 0.0638 - val_acc: 0.9872\n",
      "Epoch 9/10\n",
      "48000/48000 [==============================] - 36s 749us/step - loss: 0.0434 - acc: 0.9878 - val_loss: 0.0412 - val_acc: 0.9892\n",
      "Epoch 10/10\n",
      "48000/48000 [==============================] - 36s 748us/step - loss: 0.0477 - acc: 0.9869 - val_loss: 0.0472 - val_acc: 0.9891\n",
      "10000/10000 [==============================] - 2s 212us/step\n",
      "\n",
      "Test loss: 0.039093505308629116\n",
      "Test Acc: 0.9897\n"
     ]
    },
    {
     "data": {
      "image/png": "[encoded data removed]",
      "text/plain": [
       "<Figure size 432x288 with 1 Axes>"
      ]
     },
     "metadata": {},
     "output_type": "display_data"
    },
    {
     "data": {
      "image/png": "[encoded data removed]",
      "text/plain": [
       "<Figure size 432x288 with 1 Axes>"
      ]
     },
     "metadata": {},
     "output_type": "display_data"
    }
   ],
   "source": [
    "main()"
   ]
  },
  {
   "cell_type": "code",
   "execution_count": null,
   "metadata": {},
   "outputs": [],
   "source": []
  }
 ],
 "metadata": {
  "kernelspec": {
   "display_name": "Python 3",
   "language": "python",
   "name": "python3"
  },
  "language_info": {
   "codemirror_mode": {
    "name": "ipython",
    "version": 3
   },
   "file_extension": ".py",
   "mimetype": "text/x-python",
   "name": "python",
   "nbconvert_exporter": "python",
   "pygments_lexer": "ipython3",
   "version": "3.4.5"
  }
 },
 "nbformat": 4,
 "nbformat_minor": 2
}
