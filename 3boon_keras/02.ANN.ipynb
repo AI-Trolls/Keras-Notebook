{
 "cells": [
  {
   "cell_type": "markdown",
   "metadata": {},
   "source": [
    "## ANN\n",
    "- 입력 / 은닉 / 출력 레이어\n",
    "- **Activation function** (뉴런 동작 흉내, 비선형성 보상)\n",
    "- 분류 문제의 출력용 activation function ; **Softmax** (출력 노드 결과 확률값으로 바꿈 -> cross entropy 적용 가능)\n",
    "- **Back Propagation**, **Gradient Descent**(가중치에 대한 loss function 미분값 활용)\n",
    "- **Loss Function**\n",
    "    - 분류 문제에선 **Cross Entropy**\n",
    "    - 회귀 문제에선 **Mean Squared Error** \n",
    "- 최적화 방법 \n",
    "    - SGD\n",
    "    - RMSprop\n",
    "    - Adam(경사의 분산과 평균으로 부터 파라미터 업데이트)\n",
    "    - Adagrad(밀집되지 않은 데이터에 적합하도록 경사 제곱을 통해 시간에 따라 학습률 조정)\n",
    "    "
   ]
  },
  {
   "cell_type": "markdown",
   "metadata": {},
   "source": [
    "## 구현 모양새\n",
    "- **layers** ; 각 계층을 만드는 모듈\n",
    "- **models** ; 각 layer를 연결하여 뉴럴넷을 만들고, compile, fit, evaluation하는 역할\n",
    "- 케라스는 **연쇄 / 분산** 방식으로 모델을 구현할 수 있음\n",
    "    - 연쇄 방식은 간단하지만 복잡한 모델 구현 힘듬\n",
    "- 또 각각, **함수형 / 객체지향형** 방식으로 구현 가능"
   ]
  },
  {
   "cell_type": "code",
   "execution_count": 1,
   "metadata": {},
   "outputs": [
    {
     "name": "stderr",
     "output_type": "stream",
     "text": [
      "Using TensorFlow backend.\n"
     ]
    }
   ],
   "source": [
    "from keras import layers, models"
   ]
  },
  {
   "cell_type": "markdown",
   "metadata": {},
   "source": [
    "#### 분산 방식 모델링을 포함하는 함수형 구현"
   ]
  },
  {
   "cell_type": "code",
   "execution_count": 15,
   "metadata": {},
   "outputs": [],
   "source": [
    "def ANN_models_func(Nin, Nh, Nout):\n",
    "    x = layers.Input(shape=(Nin,)) # 입력 계층 별도 지정\n",
    "    h = layers.Activation('relu')(layers.Dense(Nh)(x)) # 객체를 함수처럼 쓸 수 있는 파이썬, __call__(self, x)\n",
    "    y = layers.Activation('softmax')(layers.Dense(Nout)(h))\n",
    "    model = models.Model(x, y)\n",
    "    # 컴파일 ; 타겟 플랫폼에 맞게 딥러닝 코드 구성(수행속도 최적화 및 초기화 작업)\n",
    "    model.compile(loss='categorical_crossentropy', optimizer='adam', metrics=['accuracy'])\n",
    "    return model"
   ]
  },
  {
   "cell_type": "markdown",
   "metadata": {},
   "source": [
    "#### 연쇄 방식의 모델링을 포함하는 함수형 구현"
   ]
  },
  {
   "cell_type": "code",
   "execution_count": 14,
   "metadata": {},
   "outputs": [],
   "source": [
    "def ANN_seq_func(Nin, Nh, Nout):\n",
    "    model = models.Sequential()\n",
    "    model.add(layers.Dense(Nh, activation='relu', input_shape=(Nin,)))\n",
    "    model.add(layers.Dense(Nout, activation='softmax'))\n",
    "    model.compile(loss='categorical_crossentropy', optimizer='adam', metrics=['accuracy'])\n",
    "    return model"
   ]
  },
  {
   "cell_type": "markdown",
   "metadata": {},
   "source": [
    "#### 분산 방식 모델링을 포함하는 객체지향형 구현\n",
    "- 모델의 재사용성 높이기 위한 객체지향 방식\n",
    "- 클래스를 만들고 models.Model 상속(학습, 예측, 평가 함수 제공)"
   ]
  },
  {
   "cell_type": "code",
   "execution_count": 17,
   "metadata": {},
   "outputs": [],
   "source": [
    "class ANN_models_class(models.Model):\n",
    "    \"\"\"\n",
    "        hidden layer가 여러개라면 루프 써서 정의 가능\n",
    "        \n",
    "        Nh_l = [5, 10, 5]\n",
    "        hidden_l = [layers.Dense(n) for n in Nh_l]\n",
    "        output = layers.Dense(Nout)\n",
    "        \n",
    "        가져다 쓸 땐 model = ANN_models_class(Nin, Nh, Nout)\n",
    "        가져다 쓰기 쉬운 구조\n",
    "    \"\"\"\n",
    "    def __init__(self, Nin, Nh, Nout):\n",
    "        hidden = layers.Dense(Wh)\n",
    "        output = layers.Dense(Nout)\n",
    "        relu = layers.Activation('relu')\n",
    "        softmax = layers.Activation('softmax')\n",
    "        \n",
    "        x = layers.Input(shape=(Nin,))\n",
    "        h = relu(hidden(x))\n",
    "        y = softmax(output(h))\n",
    "        \n",
    "        super().__init__(x, y)\n",
    "        self.compile(loss='categorical_crossentropy', optimizer='adam', metrics=['accuracy'])\n",
    "        "
   ]
  },
  {
   "cell_type": "markdown",
   "metadata": {},
   "source": [
    "#### 연쇄 방식 모델링을 포함하는 객체지향형 구현\n",
    "- 분산 방식에선 각 레이어를 별도로 직접 정의..\n",
    "    - 컴파일 직전에 부모 초기화\n",
    "- 연쇄 방식은 뉴럴넷이 연속적인 하나의 고리로 연결되어 있다고 가정\n",
    "    - 자신의 초기화 가장 앞단에서 부모 초기화"
   ]
  },
  {
   "cell_type": "code",
   "execution_count": 19,
   "metadata": {},
   "outputs": [],
   "source": [
    "class ANN_seq_class(models.Sequential):\n",
    "    def __init__(self, Nin, Nh, Nout):\n",
    "        super().__init__()\n",
    "        self.add(layers.Dense(Nh, activation='relu', input_shape=(Nin,)))\n",
    "        self.add(layers.Dense(Nout, activation='softmax'))\n",
    "        self.compile(loss='categorical_crossentropy', optimizer='adam', metrics=['accuracy'])"
   ]
  },
  {
   "cell_type": "markdown",
   "metadata": {},
   "source": [
    "## 데이터 가져오기\n",
    "- **training, validation, test data**\n",
    "- validation data ; 학습이 진행되는 동안 성능 검증\n",
    "- test data ; 학습 끝낸 이후에 모델 성능 최종 평가"
   ]
  },
  {
   "cell_type": "code",
   "execution_count": 21,
   "metadata": {},
   "outputs": [],
   "source": [
    "import numpy as np\n",
    "from keras import datasets\n",
    "from keras.utils import np_utils\n",
    "\n",
    "def Data_func():\n",
    "    (X_train, y_train), (X_test, y_test) = datasets.mnist.load_data()\n",
    "    # one-hot vector\n",
    "    Y_train = np_utils.to_categorical(y_train)\n",
    "    Y_test = np_utils.to_categorical(y_test)\n",
    "    \n",
    "    L, W, H = X_train.shape\n",
    "    print (L, W, H)\n",
    "    X_train = X_train.reshape(-1, W * H)\n",
    "    X_test = X_test.reshape(-1, W * H)\n",
    "    \n",
    "    # 정규화\n",
    "    X_train = X_train / 255.0\n",
    "    X_test = X_test / 255.0\n",
    "    \n",
    "    return (X_train, Y_train), (X_test, Y_test)"
   ]
  },
  {
   "cell_type": "markdown",
   "metadata": {},
   "source": [
    "## 학습 결과\n",
    "- fit() 함수의 결과인 history 변수에 학습 과정의 데이터가 들어있음\n",
    "- epoch는 반복 학습 횟수, batch_size는 한번에 학습하는 양"
   ]
  },
  {
   "cell_type": "code",
   "execution_count": 12,
   "metadata": {},
   "outputs": [],
   "source": [
    "import matplotlib.pyplot as plt\n",
    "\n",
    "def plot_loss(history):\n",
    "    plt.plot(history.history['loss']) # 선그리기\n",
    "    plt.plot(history.history['val_loss'])\n",
    "    plt.title('Model Loss')\n",
    "    plt.ylabel('Loss')\n",
    "    plt.xlabel('Epoch')\n",
    "    plt.legend(['Train', 'Test'], loc=0) # 각 라인의 표식 표시\n",
    "\n",
    "def plot_acc(history):\n",
    "    plt.plot(history.history['acc'])\n",
    "    plt.plot(history.history['val_acc'])\n",
    "    plt.title('Model accuracy')\n",
    "    plt.ylabel('Accuracy')\n",
    "    plt.xlabel('Epoch')\n",
    "    plt.legend(['Train', 'Test'], loc=0)"
   ]
  },
  {
   "cell_type": "code",
   "execution_count": 24,
   "metadata": {},
   "outputs": [],
   "source": [
    "def main():\n",
    "    Nin = 784\n",
    "    Nh = 100\n",
    "    number_of_class = 10\n",
    "    Nout = number_of_class\n",
    "    \n",
    "    model = ANN_seq_class(Nin, Nh, Nout)\n",
    "    (X_train, Y_train), (X_test, Y_test) = Data_func()\n",
    "    \n",
    "    ############\n",
    "    # train \n",
    "    ############\n",
    "    history = model.fit(X_train, Y_train, epochs=15, batch_size=100, validation_split=0.2)\n",
    "    performance_test = model.evaluate(X_test, Y_test, batch_size=100) # eval할 때도 batch를 지정함\n",
    "    \n",
    "    print('Test Loss and Accuracy -> {:.2f}, {:.2f}'.format(*performance_test))\n",
    "    \n",
    "    plot_loss(history)\n",
    "    plt.show()\n",
    "    \n",
    "    plot_acc(history)\n",
    "    plt.show()    "
   ]
  },
  {
   "cell_type": "code",
   "execution_count": 25,
   "metadata": {},
   "outputs": [
    {
     "name": "stdout",
     "output_type": "stream",
     "text": [
      "60000 28 28\n",
      "Train on 48000 samples, validate on 12000 samples\n",
      "Epoch 1/15\n",
      "48000/48000 [==============================] - 2s 49us/step - loss: 0.3953 - acc: 0.8917 - val_loss: 0.2214 - val_acc: 0.9391\n",
      "Epoch 2/15\n",
      "48000/48000 [==============================] - 2s 47us/step - loss: 0.1934 - acc: 0.9446 - val_loss: 0.1701 - val_acc: 0.9518\n",
      "Epoch 3/15\n",
      "48000/48000 [==============================] - 2s 42us/step - loss: 0.1434 - acc: 0.9579 - val_loss: 0.1373 - val_acc: 0.9597\n",
      "Epoch 4/15\n",
      "48000/48000 [==============================] - 2s 42us/step - loss: 0.1118 - acc: 0.9671 - val_loss: 0.1226 - val_acc: 0.9633\n",
      "Epoch 5/15\n",
      "48000/48000 [==============================] - 2s 36us/step - loss: 0.0912 - acc: 0.9739 - val_loss: 0.1150 - val_acc: 0.9647\n",
      "Epoch 6/15\n",
      "48000/48000 [==============================] - 3s 52us/step - loss: 0.0766 - acc: 0.9777 - val_loss: 0.1067 - val_acc: 0.9674\n",
      "Epoch 7/15\n",
      "48000/48000 [==============================] - 1s 31us/step - loss: 0.0643 - acc: 0.9814 - val_loss: 0.1000 - val_acc: 0.9698\n",
      "Epoch 8/15\n",
      "48000/48000 [==============================] - 2s 42us/step - loss: 0.0555 - acc: 0.9843 - val_loss: 0.0970 - val_acc: 0.9699\n",
      "Epoch 9/15\n",
      "48000/48000 [==============================] - 2s 35us/step - loss: 0.0466 - acc: 0.9870 - val_loss: 0.0930 - val_acc: 0.9721\n",
      "Epoch 10/15\n",
      "48000/48000 [==============================] - 2s 49us/step - loss: 0.0397 - acc: 0.9892 - val_loss: 0.0925 - val_acc: 0.9720\n",
      "Epoch 11/15\n",
      "48000/48000 [==============================] - 2s 41us/step - loss: 0.0340 - acc: 0.9904 - val_loss: 0.0902 - val_acc: 0.9737\n",
      "Epoch 12/15\n",
      "48000/48000 [==============================] - 2s 35us/step - loss: 0.0293 - acc: 0.9920 - val_loss: 0.0942 - val_acc: 0.9735\n",
      "Epoch 13/15\n",
      "48000/48000 [==============================] - 2s 47us/step - loss: 0.0248 - acc: 0.9940 - val_loss: 0.0946 - val_acc: 0.9738\n",
      "Epoch 14/15\n",
      "48000/48000 [==============================] - 2s 42us/step - loss: 0.0222 - acc: 0.9941 - val_loss: 0.0939 - val_acc: 0.9738\n",
      "Epoch 15/15\n",
      "48000/48000 [==============================] - 2s 43us/step - loss: 0.0192 - acc: 0.9952 - val_loss: 0.0946 - val_acc: 0.9733\n",
      "10000/10000 [==============================] - 0s 14us/step\n",
      "Test Loss and Accuracy -> 0.08, 0.98\n"
     ]
    },
    {
     "data": {
      "image/png": "[encoded data removed]",
      "text/plain": [
       "<Figure size 432x288 with 1 Axes>"
      ]
     },
     "metadata": {},
     "output_type": "display_data"
    },
    {
     "data": {
      "image/png": "[encoded data removed]",
      "text/plain": [
       "<Figure size 432x288 with 1 Axes>"
      ]
     },
     "metadata": {},
     "output_type": "display_data"
    }
   ],
   "source": [
    "main()"
   ]
  },
  {
   "cell_type": "markdown",
   "metadata": {},
   "source": [
    "#### 결과\n",
    "- validation set에 대한 손실 및 정확도는 training set에 대한 것 보다 점점 나빠짐\n",
    "- 해당 모델이 가지는 자유도에 비해 학습 데이터 수가 적거나, 학습 방법에 한계가 있어 오는 **'overfitting'**\n",
    "- overfitting 방지법\n",
    "    - early stopping\n",
    "    - 모델의 params 수 줄이기"
   ]
  },
  {
   "cell_type": "code",
   "execution_count": null,
   "metadata": {},
   "outputs": [],
   "source": []
  }
 ],
 "metadata": {
  "kernelspec": {
   "display_name": "Python 3",
   "language": "python",
   "name": "python3"
  },
  "language_info": {
   "codemirror_mode": {
    "name": "ipython",
    "version": 3
   },
   "file_extension": ".py",
   "mimetype": "text/x-python",
   "name": "python",
   "nbconvert_exporter": "python",
   "pygments_lexer": "ipython3",
   "version": "3.4.5"
  }
 },
 "nbformat": 4,
 "nbformat_minor": 2
}
