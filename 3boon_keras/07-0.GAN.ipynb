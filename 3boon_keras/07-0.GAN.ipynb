{
 "cells": [
  {
   "cell_type": "markdown",
   "metadata": {},
   "source": [
    "## Generative Advertial Network\n",
    "- 이안 굿펠로우 제안\n",
    "- 내부의 두 신경망이 상호 경쟁하면서 학습\n",
    "    - 생성망, 판별망\n",
    "- real data(실제 데이터)와 비슷한 확률분포를 가지는 fake data 생성\n",
    "- fake data(허구 데이터)는 GAN에서 만들어진 '생성 데이터'\n",
    "- GAN 예시: 실제 데이터로 얼굴 사진을 제공 -> 비슷한 확률분포를 가지는 새로운 fake 얼굴 사진 생성\n",
    "    - 비교) 데이터의 레이블을 학습하는 판별형 신경망 DNN, CNN, ...\n",
    "- **입력데이터**: 무작위 잡음\n",
    "- **출력데이터**: 입력 데이터보다 높은 차원\n",
    "    - 특정 분포도를 갖는 데이터\n",
    "    - ex) 필기체 숫자, 사람 얼굴 사진\n",
    "- **학습이후**: GAN에 새로운 무작위 노이즈 입력 -> 학습한 실제 데이터와 유사한 형태의 fake data 출력\n",
    "\n",
    "### 보충자료\n",
    "- https://zzsza.github.io/data/2017/12/27/gan/"
   ]
  },
  {
   "cell_type": "markdown",
   "metadata": {},
   "source": [
    "## GAN의 구조\n",
    "- 두 네트워크가 복합적으로 구성되어있음\n",
    "    - 하나는 **생성망**\n",
    "    - 하나는 **판별망**\n",
    "- **학습 목적**: 학습한 실제 데이터와 같은 확률분포를 가지는 새로운 fake data를 만들도록 **'생성망'**을 학습\n",
    "    - 생성망: 주어진 데이터와 유사항 fake data 생성\n",
    "        - 저차원의 무작위 노이즈 벡터(Z)를 입력받아 고차원의 fake data 생성\n",
    "        - 실제 이미지를 학습하여 실제 이미지와 확률분포가 비슷한 fake data 생성\n",
    "            - 판별망의 판단 결과 활용\n",
    "        - fake data가 신경망의 학습이 진행됨에 따라 점점 real data와 유사해짐\n",
    "    - 판별망: 생성망에서 전달된 데이터가 fake 인지 real 인지 구분\n",
    "        - 생성망의 결과를 판별하는 신경망\n",
    "        - 이미지 자체를 판단하는게 아니라, 이미지의 **확률분포를 판별**함\n",
    "        - 확률분포 차이를 판별하도록 학습"
   ]
  },
  {
   "cell_type": "markdown",
   "metadata": {},
   "source": [
    "## 판별망 동작 원리\n",
    "- real data를 1로 판별\n",
    "    1. 실제 데이터 일부(batch)로 부터 가져온 샘플, 판별망에 입력\n",
    "    2. 미분 가능한 **판별 함수 D** (신경망으로 구성됨)\n",
    "    3. 1을 출력하려고 노력하는 **판별함수 D**\n",
    "- fake date를 0으로 판별\n",
    "    1. 무작위 **노이즈 벡터 Z** (임의의 확률분포를 가짐)\n",
    "    2. Z를 미분 가능한 **생성 함수 G**에 통과시키기 (신경망으로 구성)\n",
    "    3. 모델로부터 가져온 샘플\n",
    "    4. 미분 가능한 **판별 함수 D**\n",
    "    5. 0을 출력하려고 노력하는 **판별 함수 D**"
   ]
  },
  {
   "cell_type": "markdown",
   "metadata": {},
   "source": [
    "## 학습 과정\n",
    "1. 판별망 학습\n",
    "    - 판별 값은 1(real), 0(fake)\n",
    "    - 판별망을 학습시킬 때 생성망이 학습되면 안 됨(가중치 고정)\n",
    "    - 판별망에 들어가는 입력은, 실제 데이터에서 추출한 배치 데이터 + 생성망에서 만든 fake 데이터\n",
    "    - 목표 출력 값은 각각 군 별로 1 or 0\n",
    "2. 생성망 학습\n",
    "    - 생성망의 결과가 판별망으로 들어가도록 **가상 신경망** 모델 구성\n",
    "        - '생성망 최적화를 위한 학습용 생성 함수 GD' or '학습용 생성망'이라고 부름\n",
    "        - 판별망 부분 학습되지 않도록 가중치 고정\n",
    "        - 이후, Z로 부터 생성된 fake data가 얼마나 real data에 유사한지 판별한 결과를 내게 되고,\n",
    "        - 그 결과가 모두 1이 되도록 생성망을 학습\n",
    "            - 0 or 1 구분 결과는 크로스 엔트로피로 표현됨(분류망에서 처럼)\n",
    " \n",
    " \n",
    "### 이렇게 한번씩 실행 되면 GAN 학습 한 번 수행된 셈"
   ]
  },
  {
   "cell_type": "markdown",
   "metadata": {},
   "source": [
    "## 기본 논문 예제 구현\n",
    "- GAN으로 정규분포 생성, 생성에 쓰이는 Z는 균등분포 확률 신호 -> 출력은 정규분포 확률 신호"
   ]
  },
  {
   "cell_type": "code",
   "execution_count": 1,
   "metadata": {},
   "outputs": [
    {
     "name": "stderr",
     "output_type": "stream",
     "text": [
      "Using TensorFlow backend.\n"
     ]
    }
   ],
   "source": [
    "import numpy as np\n",
    "import matplotlib.pyplot as plt\n",
    "\n",
    "from keras import models\n",
    "from keras.layers import Dense, Conv1D, Reshape, Flatten, Lambda\n",
    "from keras.optimizers import Adam\n",
    "from keras import backend as K"
   ]
  },
  {
   "cell_type": "code",
   "execution_count": 2,
   "metadata": {},
   "outputs": [],
   "source": [
    "class Data:\n",
    "    def __init__(self, mu, sigma, ni_D):\n",
    "        self.real_sample = lambda n_batch: np.random.normal(mu, sigma, (n_batch, ni_D))\n",
    "        self.in_sample = lambda n_batch: np.random.rand(n_batch, ni_D)"
   ]
  },
  {
   "cell_type": "markdown",
   "metadata": {},
   "source": [
    "### GAN 모델링"
   ]
  },
  {
   "cell_type": "code",
   "execution_count": 3,
   "metadata": {},
   "outputs": [],
   "source": [
    "def add_decorate(x):\n",
    "    m = K.mean(x, axis=1, keepdims=True)\n",
    "    d = K.square(x - m)\n",
    "    return K.concatenate([x, d], axis=-1)\n",
    "\n",
    "def add_decorate_shape(input_shape):\n",
    "    shape = list(input_shape)\n",
    "    assert len(shape) == 2\n",
    "    shape[1] *= 2\n",
    "    return tuple(shape)\n",
    "\n",
    "lr = 2e-4 # 0.0002\n",
    "adam = Adam(lr=lr, beta_1=0.9, beta_2=0.999)\n",
    "\n",
    "def model_compile(model):\n",
    "    return model.compile(loss='binary_crossentropy', optimizer=adam, metrics=['accuracy'])\n",
    "\n",
    "class GAN:\n",
    "    def __init__(self, ni_D, nh_D, nh_G):\n",
    "        self.ni_D = ni_D\n",
    "        self.nh_D = nh_D\n",
    "        self.nh_G = nh_G\n",
    "        \n",
    "        self.D = self.gen_D()\n",
    "        self.G = self.gen_G()\n",
    "        self.GD = self.make_GD()\n",
    "        \n",
    "    def gen_D(self):\n",
    "        ni_D = self.ni_D\n",
    "        nh_D = self.nh_D\n",
    "        D = models.Sequential()\n",
    "        D.add(Lambda(add_decorate, output_shape=add_decorate_shape, input_shape=(ni_D,)))\n",
    "        D.add(Dense(nh_D, activation='relu'))\n",
    "        D.add(Dense(nh_D, activation='relu'))\n",
    "        D.add(Dense(1, activation='sigmoid'))\n",
    "        \n",
    "        model_compile(D)\n",
    "        return D\n",
    "    \n",
    "    def gen_G(self):\n",
    "        ni_D = self.ni_D\n",
    "        nh_G = self.nh_D\n",
    "        \n",
    "        G = models.Sequential()\n",
    "        G.add(Reshape((ni_D, 1), input_shape=(ni_D,)))\n",
    "        G.add(Conv1D(nh_G, 1, activation='relu'))\n",
    "        G.add(Conv1D(nh_G, 1, activation='sigmoid'))\n",
    "        G.add(Conv1D(1, 1))\n",
    "        G.add(Flatten())\n",
    "        \n",
    "        model_compile(G)\n",
    "        return G\n",
    "    \n",
    "    def make_GD(self):\n",
    "        G, D = self.G, self.D\n",
    "        GD = models.Sequential()\n",
    "        GD.add(G)\n",
    "        GD.add(D)\n",
    "        D.trainable = False\n",
    "        model_compile(GD)\n",
    "        D.trainable = True\n",
    "        return GD\n",
    "    \n",
    "    def D_train_on_batch(self, Real, Gen):\n",
    "        D = self.D\n",
    "        X = np.concatenate([Real, Gen], axis=0)\n",
    "        y = np.array([1] * Real.shape[0] + [0] * Gen.shape[0])\n",
    "        D.train_on_batch(X, y)\n",
    "        \n",
    "    def GD_train_on_batch(self, Z):\n",
    "        GD = self.GD\n",
    "        y = np.array([1] * Z.shape[0])\n",
    "        GD.train_on_batch(Z, y)"
   ]
  },
  {
   "cell_type": "markdown",
   "metadata": {},
   "source": [
    "### 머신 구현"
   ]
  },
  {
   "cell_type": "code",
   "execution_count": 13,
   "metadata": {},
   "outputs": [],
   "source": [
    "class Machine:\n",
    "    def __init__(self, n_batch=10, ni_D=100):\n",
    "        data_mean = 4\n",
    "        data_stddev = 1.25\n",
    "        \n",
    "        self.n_iter_D = 1\n",
    "        self.n_iter_G = 5\n",
    "        \n",
    "        self.data = Data(data_mean, data_stddev, ni_D)\n",
    "        self.gan = GAN(ni_D, nh_D=50, nh_G=50)\n",
    "        \n",
    "        self.n_batch = n_batch\n",
    "        # self.ni_D = ni_D\n",
    "    \n",
    "    def train_D(self):\n",
    "        gan = self.gan\n",
    "        n_batch = self.n_batch\n",
    "        data = self.data\n",
    "        \n",
    "        # Real Data\n",
    "        Real = data.real_sample(n_batch) # (n_batch, ni_D)\n",
    "        # Generated DAta\n",
    "        Z = data.in_sample(n_batch) # (n_batch, ni_D)\n",
    "        Gen = gan.G.predict(Z) # (n_batch, ni_D)\n",
    "        gan.D.trainable = True\n",
    "        gan.D_train_on_batch(Real, Gen)\n",
    "        \n",
    "    def train_GD(self):\n",
    "        gan = self.gan\n",
    "        n_batch = self.n_batch\n",
    "        data = self.data\n",
    "        # Seed data for data generation\n",
    "        Z = data.in_sample(n_batch)\n",
    "        \n",
    "        gan.D.trainable = False\n",
    "        gan.GD_train_on_batch(Z)\n",
    "        \n",
    "    def train_each(self):\n",
    "        for it in range(self.n_iter_D):\n",
    "            self.train_D()\n",
    "        for it in range(self.n_iter_G):\n",
    "            self.train_GD()\n",
    "    \n",
    "    def train(self, epochs):\n",
    "        for epoch in range(epochs):\n",
    "            self.train_each()\n",
    "    \n",
    "    def test(self, n_test):\n",
    "        gan = self.gan\n",
    "        data = self.data\n",
    "        Z = data.in_sample(n_test)\n",
    "        Gen = gan.G.predict(Z)\n",
    "        return Gen, Z\n",
    "    \n",
    "    def show_hist(self, Real, Gen, Z):\n",
    "        plt.hist(Real.reshape(-1), histtype='step', label='Real')\n",
    "        plt.hist(Gen.reshape(-1), histtype='step', label='Generated')        \n",
    "        plt.hist(Z.reshape(-1), histtype='step', label='Input') \n",
    "        plt.legend(loc=0)\n",
    "    \n",
    "    def test_and_show(self, n_test):\n",
    "        data = self.data\n",
    "        Gen, Z = self.test(n_test)\n",
    "        Real = data.real_sample(n_test)\n",
    "        self.show_hist(Real, Gen, Z)\n",
    "        Machine.print_stat(Real, Gen)\n",
    "    \n",
    "    def run_epochs(self, epochs, n_test):\n",
    "        self.train(epochs)\n",
    "        self.test_and_show(n_test)\n",
    "        \n",
    "    def run(self, n_repeat=200, n_show=200, n_test=100):\n",
    "        for ii in range(n_repeat):\n",
    "            print('Stage', ii, '(Epoch: {})'.format(ii * n_show))\n",
    "            self.run_epochs(n_show, n_test)\n",
    "            plt.show()\n",
    "    \n",
    "    @staticmethod\n",
    "    def print_stat(Real, Gen):\n",
    "        def stat(d):\n",
    "            return (np.mean(d), np.std(d))\n",
    "        print('Mean and Std of Real: ', stat(Real))\n",
    "        print('Mean and Std of Gen: ', stat(Gen))"
   ]
  },
  {
   "cell_type": "code",
   "execution_count": 14,
   "metadata": {},
   "outputs": [],
   "source": [
    "def main():\n",
    "    machine = Machine(n_batch=1, ni_D=100)\n",
    "    machine.run(n_repeat=200, n_show=200, n_test=100)"
   ]
  },
  {
   "cell_type": "code",
   "execution_count": 12,
   "metadata": {},
   "outputs": [
    {
     "name": "stdout",
     "output_type": "stream",
     "text": [
      "Stage 0 (Epoch: 0)\n"
     ]
    },
    {
     "ename": "NameError",
     "evalue": "name 'Self' is not defined",
     "output_type": "error",
     "traceback": [
      "\u001b[0;31m---------------------------------------------------------------------------\u001b[0m",
      "\u001b[0;31mNameError\u001b[0m                                 Traceback (most recent call last)",
      "\u001b[0;32m<ipython-input-12-263240bbee7e>\u001b[0m in \u001b[0;36m<module>\u001b[0;34m()\u001b[0m\n\u001b[0;32m----> 1\u001b[0;31m \u001b[0mmain\u001b[0m\u001b[0;34m(\u001b[0m\u001b[0;34m)\u001b[0m\u001b[0;34m\u001b[0m\u001b[0m\n\u001b[0m",
      "\u001b[0;32m<ipython-input-11-7d2ec1b0c049>\u001b[0m in \u001b[0;36mmain\u001b[0;34m()\u001b[0m\n\u001b[1;32m      1\u001b[0m \u001b[0;32mdef\u001b[0m \u001b[0mmain\u001b[0m\u001b[0;34m(\u001b[0m\u001b[0;34m)\u001b[0m\u001b[0;34m:\u001b[0m\u001b[0;34m\u001b[0m\u001b[0m\n\u001b[1;32m      2\u001b[0m     \u001b[0mmachine\u001b[0m \u001b[0;34m=\u001b[0m \u001b[0mMachine\u001b[0m\u001b[0;34m(\u001b[0m\u001b[0mn_batch\u001b[0m\u001b[0;34m=\u001b[0m\u001b[0;36m1\u001b[0m\u001b[0;34m,\u001b[0m \u001b[0mni_D\u001b[0m\u001b[0;34m=\u001b[0m\u001b[0;36m100\u001b[0m\u001b[0;34m)\u001b[0m\u001b[0;34m\u001b[0m\u001b[0m\n\u001b[0;32m----> 3\u001b[0;31m     \u001b[0mmachine\u001b[0m\u001b[0;34m.\u001b[0m\u001b[0mrun\u001b[0m\u001b[0;34m(\u001b[0m\u001b[0mn_repeat\u001b[0m\u001b[0;34m=\u001b[0m\u001b[0;36m200\u001b[0m\u001b[0;34m,\u001b[0m \u001b[0mn_show\u001b[0m\u001b[0;34m=\u001b[0m\u001b[0;36m200\u001b[0m\u001b[0;34m,\u001b[0m \u001b[0mn_test\u001b[0m\u001b[0;34m=\u001b[0m\u001b[0;36m100\u001b[0m\u001b[0;34m)\u001b[0m\u001b[0;34m\u001b[0m\u001b[0m\n\u001b[0m",
      "\u001b[0;32m<ipython-input-10-c2eb4db28d4b>\u001b[0m in \u001b[0;36mrun\u001b[0;34m(self, n_repeat, n_show, n_test)\u001b[0m\n\u001b[1;32m     73\u001b[0m         \u001b[0;32mfor\u001b[0m \u001b[0mii\u001b[0m \u001b[0;32min\u001b[0m \u001b[0mrange\u001b[0m\u001b[0;34m(\u001b[0m\u001b[0mn_repeat\u001b[0m\u001b[0;34m)\u001b[0m\u001b[0;34m:\u001b[0m\u001b[0;34m\u001b[0m\u001b[0m\n\u001b[1;32m     74\u001b[0m             \u001b[0mprint\u001b[0m\u001b[0;34m(\u001b[0m\u001b[0;34m'Stage'\u001b[0m\u001b[0;34m,\u001b[0m \u001b[0mii\u001b[0m\u001b[0;34m,\u001b[0m \u001b[0;34m'(Epoch: {})'\u001b[0m\u001b[0;34m.\u001b[0m\u001b[0mformat\u001b[0m\u001b[0;34m(\u001b[0m\u001b[0mii\u001b[0m \u001b[0;34m*\u001b[0m \u001b[0mn_show\u001b[0m\u001b[0;34m)\u001b[0m\u001b[0;34m)\u001b[0m\u001b[0;34m\u001b[0m\u001b[0m\n\u001b[0;32m---> 75\u001b[0;31m             \u001b[0mself\u001b[0m\u001b[0;34m.\u001b[0m\u001b[0mrun_epochs\u001b[0m\u001b[0;34m(\u001b[0m\u001b[0mn_show\u001b[0m\u001b[0;34m,\u001b[0m \u001b[0mn_test\u001b[0m\u001b[0;34m)\u001b[0m\u001b[0;34m\u001b[0m\u001b[0m\n\u001b[0m\u001b[1;32m     76\u001b[0m             \u001b[0mplt\u001b[0m\u001b[0;34m.\u001b[0m\u001b[0mshow\u001b[0m\u001b[0;34m(\u001b[0m\u001b[0;34m)\u001b[0m\u001b[0;34m\u001b[0m\u001b[0m\n\u001b[1;32m     77\u001b[0m \u001b[0;34m\u001b[0m\u001b[0m\n",
      "\u001b[0;32m<ipython-input-10-c2eb4db28d4b>\u001b[0m in \u001b[0;36mrun_epochs\u001b[0;34m(self, epochs, n_test)\u001b[0m\n\u001b[1;32m     67\u001b[0m \u001b[0;34m\u001b[0m\u001b[0m\n\u001b[1;32m     68\u001b[0m     \u001b[0;32mdef\u001b[0m \u001b[0mrun_epochs\u001b[0m\u001b[0;34m(\u001b[0m\u001b[0mself\u001b[0m\u001b[0;34m,\u001b[0m \u001b[0mepochs\u001b[0m\u001b[0;34m,\u001b[0m \u001b[0mn_test\u001b[0m\u001b[0;34m)\u001b[0m\u001b[0;34m:\u001b[0m\u001b[0;34m\u001b[0m\u001b[0m\n\u001b[0;32m---> 69\u001b[0;31m         \u001b[0mself\u001b[0m\u001b[0;34m.\u001b[0m\u001b[0mtrain\u001b[0m\u001b[0;34m(\u001b[0m\u001b[0mepochs\u001b[0m\u001b[0;34m)\u001b[0m\u001b[0;34m\u001b[0m\u001b[0m\n\u001b[0m\u001b[1;32m     70\u001b[0m         \u001b[0mself\u001b[0m\u001b[0;34m.\u001b[0m\u001b[0mtest_and_show\u001b[0m\u001b[0;34m(\u001b[0m\u001b[0mn_test\u001b[0m\u001b[0;34m)\u001b[0m\u001b[0;34m\u001b[0m\u001b[0m\n\u001b[1;32m     71\u001b[0m \u001b[0;34m\u001b[0m\u001b[0m\n",
      "\u001b[0;32m<ipython-input-10-c2eb4db28d4b>\u001b[0m in \u001b[0;36mtrain\u001b[0;34m(self, epochs)\u001b[0m\n\u001b[1;32m     44\u001b[0m     \u001b[0;32mdef\u001b[0m \u001b[0mtrain\u001b[0m\u001b[0;34m(\u001b[0m\u001b[0mself\u001b[0m\u001b[0;34m,\u001b[0m \u001b[0mepochs\u001b[0m\u001b[0;34m)\u001b[0m\u001b[0;34m:\u001b[0m\u001b[0;34m\u001b[0m\u001b[0m\n\u001b[1;32m     45\u001b[0m         \u001b[0;32mfor\u001b[0m \u001b[0mepoch\u001b[0m \u001b[0;32min\u001b[0m \u001b[0mrange\u001b[0m\u001b[0;34m(\u001b[0m\u001b[0mepochs\u001b[0m\u001b[0;34m)\u001b[0m\u001b[0;34m:\u001b[0m\u001b[0;34m\u001b[0m\u001b[0m\n\u001b[0;32m---> 46\u001b[0;31m             \u001b[0mself\u001b[0m\u001b[0;34m.\u001b[0m\u001b[0mtrain_each\u001b[0m\u001b[0;34m(\u001b[0m\u001b[0;34m)\u001b[0m\u001b[0;34m\u001b[0m\u001b[0m\n\u001b[0m\u001b[1;32m     47\u001b[0m \u001b[0;34m\u001b[0m\u001b[0m\n\u001b[1;32m     48\u001b[0m     \u001b[0;32mdef\u001b[0m \u001b[0mtest\u001b[0m\u001b[0;34m(\u001b[0m\u001b[0mself\u001b[0m\u001b[0;34m,\u001b[0m \u001b[0mn_test\u001b[0m\u001b[0;34m)\u001b[0m\u001b[0;34m:\u001b[0m\u001b[0;34m\u001b[0m\u001b[0m\n",
      "\u001b[0;32m<ipython-input-10-c2eb4db28d4b>\u001b[0m in \u001b[0;36mtrain_each\u001b[0;34m(self)\u001b[0m\n\u001b[1;32m     39\u001b[0m         \u001b[0;32mfor\u001b[0m \u001b[0mit\u001b[0m \u001b[0;32min\u001b[0m \u001b[0mrange\u001b[0m\u001b[0;34m(\u001b[0m\u001b[0mself\u001b[0m\u001b[0;34m.\u001b[0m\u001b[0mn_iter_D\u001b[0m\u001b[0;34m)\u001b[0m\u001b[0;34m:\u001b[0m\u001b[0;34m\u001b[0m\u001b[0m\n\u001b[1;32m     40\u001b[0m             \u001b[0mself\u001b[0m\u001b[0;34m.\u001b[0m\u001b[0mtrain_D\u001b[0m\u001b[0;34m(\u001b[0m\u001b[0;34m)\u001b[0m\u001b[0;34m\u001b[0m\u001b[0m\n\u001b[0;32m---> 41\u001b[0;31m         \u001b[0;32mfor\u001b[0m \u001b[0mit\u001b[0m \u001b[0;32min\u001b[0m \u001b[0mrange\u001b[0m\u001b[0;34m(\u001b[0m\u001b[0mSelf\u001b[0m\u001b[0;34m.\u001b[0m\u001b[0mn_iter_G\u001b[0m\u001b[0;34m)\u001b[0m\u001b[0;34m:\u001b[0m\u001b[0;34m\u001b[0m\u001b[0m\n\u001b[0m\u001b[1;32m     42\u001b[0m             \u001b[0mself\u001b[0m\u001b[0;34m.\u001b[0m\u001b[0mtrain_GD\u001b[0m\u001b[0;34m(\u001b[0m\u001b[0;34m)\u001b[0m\u001b[0;34m\u001b[0m\u001b[0m\n\u001b[1;32m     43\u001b[0m \u001b[0;34m\u001b[0m\u001b[0m\n",
      "\u001b[0;31mNameError\u001b[0m: name 'Self' is not defined"
     ]
    }
   ],
   "source": [
    "main()"
   ]
  },
  {
   "cell_type": "code",
   "execution_count": null,
   "metadata": {},
   "outputs": [],
   "source": []
  }
 ],
 "metadata": {
  "kernelspec": {
   "display_name": "Python 3",
   "language": "python",
   "name": "python3"
  },
  "language_info": {
   "codemirror_mode": {
    "name": "ipython",
    "version": 3
   },
   "file_extension": ".py",
   "mimetype": "text/x-python",
   "name": "python",
   "nbconvert_exporter": "python",
   "pygments_lexer": "ipython3",
   "version": "3.4.5"
  }
 },
 "nbformat": 4,
 "nbformat_minor": 2
}
