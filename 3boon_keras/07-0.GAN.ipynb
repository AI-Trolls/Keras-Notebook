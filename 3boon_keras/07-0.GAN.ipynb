{
 "cells": [
  {
   "cell_type": "markdown",
   "metadata": {},
   "source": [
    "## Generative Advertial Network\n",
    "- 이안 굿펠로우 제안\n",
    "- 내부의 두 신경망이 상호 경쟁하면서 학습\n",
    "    - 생성망, 판별망\n",
    "- real data(실제 데이터)와 비슷한 확률분포를 가지는 fake data 생성\n",
    "- fake data(허구 데이터)는 GAN에서 만들어진 '생성 데이터'\n",
    "- GAN 예시: 실제 데이터로 얼굴 사진을 제공 -> 비슷한 확률분포를 가지는 새로운 fake 얼굴 사진 생성\n",
    "    - 비교) 데이터의 레이블을 학습하는 판별형 신경망 DNN, CNN, ...\n",
    "- **입력데이터**: 무작위 잡음\n",
    "- **출력데이터**: 입력 데이터보다 높은 차원\n",
    "    - 특정 분포도를 갖는 데이터\n",
    "    - ex) 필기체 숫자, 사람 얼굴 사진\n",
    "- **학습이후**: GAN에 새로운 무작위 노이즈 입력 -> 학습한 실제 데이터와 유사한 형태의 fake data 출력\n",
    "\n",
    "### 보충자료\n",
    "- https://zzsza.github.io/data/2017/12/27/gan/"
   ]
  },
  {
   "cell_type": "markdown",
   "metadata": {},
   "source": [
    "## GAN의 구조\n",
    "- 두 네트워크가 복합적으로 구성되어있음\n",
    "    - 하나는 **생성망**\n",
    "    - 하나는 **판별망**\n",
    "- **학습 목적**: 학습한 실제 데이터와 같은 확률분포를 가지는 새로운 fake data를 만들도록 **'생성망'**을 학습\n",
    "    - 생성망: 주어진 데이터와 유사항 fake data 생성\n",
    "        - 저차원의 무작위 노이즈 벡터(Z)를 입력받아 고차원의 fake data 생성\n",
    "        - 실제 이미지를 학습하여 실제 이미지와 확률분포가 비슷한 fake data 생성\n",
    "            - 판별망의 판단 결과 활용\n",
    "        - fake data가 신경망의 학습이 진행됨에 따라 점점 real data와 유사해짐\n",
    "    - 판별망: 생성망에서 전달된 데이터가 fake 인지 real 인지 구분\n",
    "        - 생성망의 결과를 판별하는 신경망\n",
    "        - 이미지 자체를 판단하는게 아니라, 이미지의 **확률분포를 판별**함\n",
    "        - 확률분포 차이를 판별하도록 학습"
   ]
  },
  {
   "cell_type": "markdown",
   "metadata": {},
   "source": [
    "## 판별망 동작 원리\n",
    "- real data를 1로 판별\n",
    "    1. 실제 데이터 일부(batch)로 부터 가져온 샘플, 판별망에 입력\n",
    "    2. 미분 가능한 **판별 함수 D** (신경망으로 구성됨)\n",
    "    3. 1을 출력하려고 노력하는 **판별함수 D**\n",
    "- fake date를 0으로 판별\n",
    "    1. 무작위 **노이즈 벡터 Z** (임의의 확률분포를 가짐)\n",
    "    2. Z를 미분 가능한 **생성 함수 G**에 통과시키기 (신경망으로 구성)\n",
    "    3. 모델로부터 가져온 샘플\n",
    "    4. 미분 가능한 **판별 함수 D**\n",
    "    5. 0을 출력하려고 노력하는 **판별 함수 D**"
   ]
  },
  {
   "cell_type": "markdown",
   "metadata": {},
   "source": [
    "## 학습 과정\n",
    "1. 판별망 학습\n",
    "    - 판별 값은 1(real), 0(fake)\n",
    "    - 판별망을 학습시킬 때 생성망이 학습되면 안 됨(가중치 고정)\n",
    "    - 판별망에 들어가는 입력은, 실제 데이터에서 추출한 배치 데이터 + 생성망에서 만든 fake 데이터\n",
    "    - 목표 출력 값은 각각 군 별로 1 or 0\n",
    "2. 생성망 학습\n",
    "    - 생성망의 결과가 판별망으로 들어가도록 **가상 신경망** 모델 구성\n",
    "        - '생성망 최적화를 위한 학습용 생성 함수 GD' or '학습용 생성망'이라고 부름\n",
    "        - 판별망 부분 학습되지 않도록 가중치 고정\n",
    "        - 이후, Z로 부터 생성된 fake data가 얼마나 real data에 유사한지 판별한 결과를 내게 되고,\n",
    "        - 그 결과가 모두 1이 되도록 생성망을 학습\n",
    "            - 0 or 1 구분 결과는 크로스 엔트로피로 표현됨(분류망에서 처럼)\n",
    " \n",
    " \n",
    "### 이렇게 한번씩 실행 되면 GAN 학습 한 번 수행된 셈"
   ]
  },
  {
   "cell_type": "code",
   "execution_count": null,
   "metadata": {},
   "outputs": [],
   "source": []
  }
 ],
 "metadata": {
  "kernelspec": {
   "display_name": "Python 3",
   "language": "python",
   "name": "python3"
  },
  "language_info": {
   "codemirror_mode": {
    "name": "ipython",
    "version": 3
   },
   "file_extension": ".py",
   "mimetype": "text/x-python",
   "name": "python",
   "nbconvert_exporter": "python",
   "pygments_lexer": "ipython3",
   "version": "3.4.5"
  }
 },
 "nbformat": 4,
 "nbformat_minor": 2
}
